{
 "cells": [
  {
   "cell_type": "code",
   "execution_count": 5,
   "metadata": {},
   "outputs": [],
   "source": [
    "class Node:\n",
    "    def __init__(self, item):\n",
    "        self.left=None\n",
    "        self.right=None\n",
    "        self.item=item\n",
    "\n",
    "\n",
    "root = Node(10)\n",
    "root.left=Node(30)\n",
    "root.left.left=Node(90)\n",
    "\n",
    "root.right=Node(5)\n",
    "root.right.left=Node(80)\n",
    "root.right.right=Node(70)\n",
    "root.right.right.right=Node(100)"
   ]
  },
  {
   "cell_type": "code",
   "execution_count": 6,
   "metadata": {},
   "outputs": [],
   "source": [
    "# Way 1 : using level order traversal ( iterative method)\n",
    "mymax_list = []\n",
    "mymax_list.append(root)\n",
    "mymax=0\n",
    "while mymax_list:\n",
    "    num = mymax_list.pop(0)\n",
    "    if num!=None:\n",
    "        if mymax<num.item:\n",
    "            mymax=num.item\n",
    "        \n",
    "        if num.left is not None:\n",
    "            mymax_list.append(num.left)\n",
    "        if num.right is not None:\n",
    "            mymax_list.append(num.right)\n",
    "    else:\n",
    "        mymax=-1\n",
    "        break;\n",
    "    \n",
    "        "
   ]
  },
  {
   "cell_type": "code",
   "execution_count": 7,
   "metadata": {},
   "outputs": [
    {
     "data": {
      "text/plain": [
       "100"
      ]
     },
     "execution_count": 7,
     "metadata": {},
     "output_type": "execute_result"
    }
   ],
   "source": [
    "mymax"
   ]
  },
  {
   "cell_type": "code",
   "execution_count": 15,
   "metadata": {},
   "outputs": [],
   "source": [
    "# way 2: Using recursion\n",
    "\n",
    "# Time complexity: theta(n)\n",
    "# Space: Theta(n)\n",
    "val=0\n",
    "def mymax(root):\n",
    "    global val\n",
    "    if root==None:\n",
    "        return -1\n",
    "    else:\n",
    "        val = max(val,root.item)\n",
    "        print(f\" Current item:-> {root.item} | Current Max:->{val}\")\n",
    "        \n",
    "        # First we recursively call left tree\n",
    "        mymax(root.left)\n",
    "        \n",
    "        # Then we call right tree recursivey\n",
    "        mymax(root.right)\n",
    "        \n",
    "        \n",
    "        # single line code:\n",
    "        # return max(root.item, mymax(root.left), mymax(root.right)) \n",
    "        \n",
    "        \n",
    "        return val"
   ]
  },
  {
   "cell_type": "code",
   "execution_count": 16,
   "metadata": {},
   "outputs": [
    {
     "name": "stdout",
     "output_type": "stream",
     "text": [
      " Current item:-> 10 | Current Max:->10\n",
      " Current item:-> 30 | Current Max:->30\n",
      " Current item:-> 90 | Current Max:->90\n",
      " Current item:-> 5 | Current Max:->90\n",
      " Current item:-> 80 | Current Max:->90\n",
      " Current item:-> 70 | Current Max:->90\n",
      " Current item:-> 100 | Current Max:->100\n"
     ]
    },
    {
     "data": {
      "text/plain": [
       "100"
      ]
     },
     "execution_count": 16,
     "metadata": {},
     "output_type": "execute_result"
    }
   ],
   "source": [
    "mymax(root)"
   ]
  }
 ],
 "metadata": {
  "kernelspec": {
   "display_name": "python38",
   "language": "python",
   "name": "python3"
  },
  "language_info": {
   "codemirror_mode": {
    "name": "ipython",
    "version": 3
   },
   "file_extension": ".py",
   "mimetype": "text/x-python",
   "name": "python",
   "nbconvert_exporter": "python",
   "pygments_lexer": "ipython3",
   "version": "3.8.18"
  }
 },
 "nbformat": 4,
 "nbformat_minor": 2
}

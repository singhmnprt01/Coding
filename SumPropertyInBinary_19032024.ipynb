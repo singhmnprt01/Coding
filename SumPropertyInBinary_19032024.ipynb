{
 "cells": [
  {
   "cell_type": "code",
   "execution_count": 60,
   "metadata": {},
   "outputs": [],
   "source": [
    "# Check for children Sum Property in a Binary Tree\n",
    "# https://www.geeksforgeeks.org/batch/ds-with-python/track/tree-basic-python/problem/children-sum-parent"
   ]
  },
  {
   "cell_type": "code",
   "execution_count": 7,
   "metadata": {},
   "outputs": [],
   "source": [
    "class Node:\n",
    "    def __init__(self, item):\n",
    "        self.left=None\n",
    "        self.right=None\n",
    "        self.item=item\n",
    "        \n",
    "root = Node(35)\n",
    "root.left=Node(20)\n",
    "root.left.left=Node(15)\n",
    "root.left.right=Node(5)\n",
    "\n",
    "root.right=Node(15)\n",
    "root.right.left=Node(10)\n",
    "root.right.right=Node(5)\n",
    "        "
   ]
  },
  {
   "cell_type": "code",
   "execution_count": 8,
   "metadata": {},
   "outputs": [],
   "source": [
    "\n",
    "def isSumProperty(root):\n",
    "    if root==None: # if root is none, then the tree satsifies sumproperty, example an empty tree\n",
    "        return 1\n",
    "    if root.left is None and root.right is None: # if both left and right are none, then also it satisfies, example a tree with only root node\n",
    "        return 1\n",
    "    else:\n",
    "        mysum = root.item\n",
    "        mysumleft = root.left.item if root.left else 0\n",
    "        mysumright = root.right.item if root.right else 0 \n",
    "        \n",
    "    if mysum == mysumleft+mysumright:\n",
    "            return min(isSumProperty(root.left), isSumProperty(root.right))\n",
    "        # we have min here as in the else condition,we are returning 0, so even if we get one 0, the tree fails to satisfy sum_property\n",
    "    return 0 \n"
   ]
  },
  {
   "cell_type": "code",
   "execution_count": 9,
   "metadata": {},
   "outputs": [
    {
     "name": "stdout",
     "output_type": "stream",
     "text": [
      "CPU times: total: 0 ns\n",
      "Wall time: 0 ns\n"
     ]
    },
    {
     "data": {
      "text/plain": [
       "1"
      ]
     },
     "execution_count": 9,
     "metadata": {},
     "output_type": "execute_result"
    }
   ],
   "source": [
    "%%time\n",
    "isSumProperty(root)"
   ]
  },
  {
   "cell_type": "code",
   "execution_count": null,
   "metadata": {},
   "outputs": [],
   "source": []
  },
  {
   "cell_type": "code",
   "execution_count": null,
   "metadata": {},
   "outputs": [],
   "source": []
  }
 ],
 "metadata": {
  "kernelspec": {
   "display_name": "python38",
   "language": "python",
   "name": "python3"
  },
  "language_info": {
   "codemirror_mode": {
    "name": "ipython",
    "version": 3
   },
   "file_extension": ".py",
   "mimetype": "text/x-python",
   "name": "python",
   "nbconvert_exporter": "python",
   "pygments_lexer": "ipython3",
   "version": "3.8.18"
  }
 },
 "nbformat": 4,
 "nbformat_minor": 2
}

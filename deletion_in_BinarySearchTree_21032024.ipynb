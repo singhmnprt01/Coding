{
 "cells": [
  {
   "cell_type": "code",
   "execution_count": 32,
   "metadata": {},
   "outputs": [],
   "source": [
    "class Node: \n",
    "    def __init__(self, item):\n",
    "        self.left=None\n",
    "        self.right=None\n",
    "        self.item=item \n",
    "        \n",
    "root = Node(40)\n",
    "root.left=Node(20)\n",
    "root.left.left=Node(10)\n",
    "root.left.right=Node(30)\n",
    "\n",
    "root.right=Node(100)\n",
    "root.right.left=Node(70)\n",
    "root.right.left.left=Node(60)\n",
    "root.right.left.left.left=Node(50)\n",
    "root.right.right=Node(200)\n",
    "root.right.right.left=Node(150)\n",
    "root.right.right.right=Node(300)\n"
   ]
  },
  {
   "cell_type": "code",
   "execution_count": 33,
   "metadata": {},
   "outputs": [],
   "source": [
    "def getSucc(curr, item):\n",
    "    while curr.left!=None:\n",
    "        curr=curr.left\n",
    "    return curr.item"
   ]
  },
  {
   "cell_type": "code",
   "execution_count": 34,
   "metadata": {},
   "outputs": [],
   "source": [
    "\n",
    "def delete_BST(root, item):\n",
    "    if root == None:\n",
    "        return None\n",
    "    if item > root.item:\n",
    "        root.right = delete_BST(root.right, item)\n",
    "    elif item < root.item:\n",
    "        root.left = delete_BST(root.left, item)\n",
    "    else:\n",
    "        if root.right == None:\n",
    "            return root.left\n",
    "        elif root.left == None:\n",
    "            return root.right\n",
    "        else:\n",
    "            succ = getSucc(root.right, item)\n",
    "            root.item = succ\n",
    "            root.right = delete_BST(root.right, succ)\n",
    "    return root\n",
    "         "
   ]
  },
  {
   "cell_type": "code",
   "execution_count": 35,
   "metadata": {},
   "outputs": [],
   "source": [
    "# case 1: delete a leaf node\n",
    "myroot = delete_BST(root, 10)"
   ]
  },
  {
   "cell_type": "code",
   "execution_count": 37,
   "metadata": {},
   "outputs": [
    {
     "data": {
      "text/plain": [
       "(20, None)"
      ]
     },
     "execution_count": 37,
     "metadata": {},
     "output_type": "execute_result"
    }
   ],
   "source": [
    "myroot.left.item, myroot.left.left"
   ]
  },
  {
   "cell_type": "code",
   "execution_count": 38,
   "metadata": {},
   "outputs": [],
   "source": [
    "# case 2: delete a node with either of left or right as null \n",
    "myroot = delete_BST(root, 60)"
   ]
  },
  {
   "cell_type": "code",
   "execution_count": 40,
   "metadata": {},
   "outputs": [
    {
     "data": {
      "text/plain": [
       "(70, 50)"
      ]
     },
     "execution_count": 40,
     "metadata": {},
     "output_type": "execute_result"
    }
   ],
   "source": [
    "myroot.right.left.item, myroot.right.left.left.item"
   ]
  },
  {
   "cell_type": "code",
   "execution_count": 41,
   "metadata": {},
   "outputs": [],
   "source": [
    "# case 3: delete a node having both left and right nodes\n",
    "myroot = delete_BST(root, 100)"
   ]
  },
  {
   "cell_type": "code",
   "execution_count": 42,
   "metadata": {},
   "outputs": [
    {
     "data": {
      "text/plain": [
       "150"
      ]
     },
     "execution_count": 42,
     "metadata": {},
     "output_type": "execute_result"
    }
   ],
   "source": [
    "myroot.right.item"
   ]
  }
 ],
 "metadata": {
  "kernelspec": {
   "display_name": "python38",
   "language": "python",
   "name": "python3"
  },
  "language_info": {
   "codemirror_mode": {
    "name": "ipython",
    "version": 3
   },
   "file_extension": ".py",
   "mimetype": "text/x-python",
   "name": "python",
   "nbconvert_exporter": "python",
   "pygments_lexer": "ipython3",
   "version": "3.8.18"
  }
 },
 "nbformat": 4,
 "nbformat_minor": 2
}

{
 "cells": [
  {
   "cell_type": "code",
   "execution_count": 12,
   "metadata": {},
   "outputs": [],
   "source": [
    "class Node:\n",
    "    def __init__(self, data):\n",
    "        self.data=data\n",
    "        self.next=None\n",
    "    \n",
    "    \n",
    "class LinkedList:\n",
    "    def __init__(self):\n",
    "        self.head=None\n",
    "        self.tail=None\n",
    "    \n",
    "    def add_next(self, data):\n",
    "        newnode=Node(data)\n",
    "        self.tail.next=newnode\n",
    "        self.tail=newnode\n",
    "    \n",
    "    # Time complexity is O(n)\n",
    "    # Space complexity is O(1). Below is the reasoning of space complexity: \n",
    "    ## The space complexity of the provided Python code is O(1), which means it uses constant space.\n",
    "    ## The space complexity of an algorithm or a block of code refers to the maximum amount of memory \n",
    "    ## space it needs to run to completion. In this case, the `node_from_end` function only \n",
    "    ## uses a fixed amount of space to store the `slow` and `fast` pointers, along with a few other \n",
    "    ## variables (`i`, `n`, `self`, etc.). The space used does not change with the size of the linked list, \n",
    "    ## so we say it's a constant space complexity, or O(1).\n",
    "    ## Note that we don't count the space used by the input itself (the linked list in this case) \n",
    "    ## when calculating space complexity. We're only interested in any extra space the algorithm needs to run.\n",
    "    def node_from_end(self,n):\n",
    "        if n<0:\n",
    "            return\n",
    "        if self.head==None:\n",
    "            return \n",
    "        slow = self.head\n",
    "        fast = self.head\n",
    "        for i in range(n):\n",
    "            if fast==None:\n",
    "                break; \n",
    "            fast=fast.next\n",
    "        \n",
    "        while fast:\n",
    "            fast=fast.next\n",
    "            slow=slow.next\n",
    "        return slow.data\n",
    "        \n",
    "    "
   ]
  },
  {
   "cell_type": "code",
   "execution_count": 13,
   "metadata": {},
   "outputs": [],
   "source": [
    "node1=Node(10)\n",
    "ll = LinkedList()\n",
    "ll.head=node1\n",
    "ll.tail=node1\n",
    "ll.add_next(20)\n",
    "ll.add_next(30)\n",
    "ll.add_next(40)\n",
    "ll.add_next(50)\n"
   ]
  },
  {
   "cell_type": "code",
   "execution_count": 14,
   "metadata": {},
   "outputs": [
    {
     "name": "stdout",
     "output_type": "stream",
     "text": [
      "10\n"
     ]
    }
   ],
   "source": [
    "print(ll.node_from_end(9))"
   ]
  },
  {
   "cell_type": "code",
   "execution_count": 15,
   "metadata": {},
   "outputs": [],
   "source": [
    "ll.node_from_end(-1)"
   ]
  },
  {
   "cell_type": "code",
   "execution_count": 16,
   "metadata": {},
   "outputs": [
    {
     "data": {
      "text/plain": [
       "30"
      ]
     },
     "execution_count": 16,
     "metadata": {},
     "output_type": "execute_result"
    }
   ],
   "source": [
    "ll.node_from_end(3)"
   ]
  },
  {
   "cell_type": "code",
   "execution_count": null,
   "metadata": {},
   "outputs": [],
   "source": []
  }
 ],
 "metadata": {
  "kernelspec": {
   "display_name": "python38",
   "language": "python",
   "name": "python3"
  },
  "language_info": {
   "codemirror_mode": {
    "name": "ipython",
    "version": 3
   },
   "file_extension": ".py",
   "mimetype": "text/x-python",
   "name": "python",
   "nbconvert_exporter": "python",
   "pygments_lexer": "ipython3",
   "version": "3.8.18"
  }
 },
 "nbformat": 4,
 "nbformat_minor": 2
}

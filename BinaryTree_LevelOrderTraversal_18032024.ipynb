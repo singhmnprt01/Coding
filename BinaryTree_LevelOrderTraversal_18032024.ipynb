{
 "cells": [
  {
   "cell_type": "code",
   "execution_count": null,
   "metadata": {},
   "outputs": [],
   "source": [
    "# level Order traversal"
   ]
  },
  {
   "cell_type": "code",
   "execution_count": 32,
   "metadata": {},
   "outputs": [],
   "source": [
    "class Node:\n",
    "    def __init__(self, item):\n",
    "        self.left=None\n",
    "        self.right=None\n",
    "        self.item=item\n",
    " \n",
    " \n",
    "        \n",
    "#Driver Code to add nodes to trees\n",
    "root=Node(10)\n",
    "\n",
    "root.left = Node(20)\n",
    "root.left.left=Node(40)\n",
    "root.left.right=Node(50)\n",
    "root.left.right.left=Node(70)\n",
    "root.left.right.right=Node(80)\n",
    "\n",
    "root.right = Node(30)\n",
    "root.right.right = Node(60)"
   ]
  },
  {
   "cell_type": "markdown",
   "metadata": {},
   "source": [
    "### Method 1: (naive)"
   ]
  },
  {
   "cell_type": "code",
   "execution_count": 33,
   "metadata": {},
   "outputs": [],
   "source": [
    "def height(root):\n",
    "    if root==None:\n",
    "        return -1\n",
    "    else:\n",
    "        return max(height(root.left), height(root.right)) + 1\n",
    "    "
   ]
  },
  {
   "cell_type": "code",
   "execution_count": 34,
   "metadata": {},
   "outputs": [
    {
     "name": "stdout",
     "output_type": "stream",
     "text": [
      "3\n"
     ]
    }
   ],
   "source": [
    "h = height(root)\n",
    "print(h)"
   ]
  },
  {
   "cell_type": "code",
   "execution_count": 40,
   "metadata": {},
   "outputs": [],
   "source": [
    "def printkdistance(root, k):\n",
    "    if k==0 and root is not None:\n",
    "        print(root.item)\n",
    "    else:\n",
    "        if root.left is not None:\n",
    "            printkdistance(root.left, k-1)\n",
    "        if root.right is not None:\n",
    "            printkdistance(root.right, k-1)"
   ]
  },
  {
   "cell_type": "code",
   "execution_count": 43,
   "metadata": {},
   "outputs": [
    {
     "name": "stdout",
     "output_type": "stream",
     "text": [
      "10\n"
     ]
    }
   ],
   "source": [
    "printkdistance(root,0)"
   ]
  },
  {
   "cell_type": "code",
   "execution_count": 45,
   "metadata": {},
   "outputs": [
    {
     "name": "stdout",
     "output_type": "stream",
     "text": [
      "10\n",
      "20\n",
      "30\n",
      "40\n",
      "50\n",
      "60\n",
      "70\n",
      "80\n"
     ]
    }
   ],
   "source": [
    "# Level Order Traversal\n",
    "\n",
    "# Time complexity is O(n + nh) => O(nh)\n",
    "for i in range(h+1):\n",
    "    printkdistance(root,i)"
   ]
  },
  {
   "cell_type": "code",
   "execution_count": 55,
   "metadata": {},
   "outputs": [
    {
     "name": "stdout",
     "output_type": "stream",
     "text": [
      "10\n",
      "20\n",
      "30\n",
      "40\n",
      "50\n",
      "60\n",
      "70\n",
      "80\n"
     ]
    }
   ],
   "source": [
    "\n",
    "# Better Solution:\n",
    "\n",
    "# We can't use recursion here. We have to use an iterative solution using queue DS\n",
    "\n",
    "# time complexity is Theta(n)\n",
    "# Space: O(n) . In terms of theta, it's theta(w), where w is width of the binary tree\n",
    "myqueue=[]\n",
    "myqueue.append(root)\n",
    "leftchild=root\n",
    "rightchild=root\n",
    "\n",
    "while myqueue:\n",
    "    mynode = myqueue.pop(0)\n",
    "    print(mynode.item)\n",
    "\n",
    "    if mynode.left:\n",
    "        myqueue.append(mynode.left)\n",
    "    if mynode.right:\n",
    "        myqueue.append(mynode.right)\n",
    "    \n",
    "    \n",
    "\n",
    "\n"
   ]
  }
 ],
 "metadata": {
  "kernelspec": {
   "display_name": "python38",
   "language": "python",
   "name": "python3"
  },
  "language_info": {
   "codemirror_mode": {
    "name": "ipython",
    "version": 3
   },
   "file_extension": ".py",
   "mimetype": "text/x-python",
   "name": "python",
   "nbconvert_exporter": "python",
   "pygments_lexer": "ipython3",
   "version": "3.8.18"
  }
 },
 "nbformat": 4,
 "nbformat_minor": 2
}

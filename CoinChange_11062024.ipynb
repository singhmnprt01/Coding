{
 "cells": [
  {
   "cell_type": "code",
   "execution_count": 1,
   "metadata": {},
   "outputs": [],
   "source": [
    "# https://leetcode.com/problems/coin-change/description/?envType=study-plan-v2&envId=top-interview-150"
   ]
  },
  {
   "cell_type": "code",
   "execution_count": 1,
   "metadata": {},
   "outputs": [],
   "source": [
    "# https://www.youtube.com/watch?v=koE9ly1CFDc&ab_channel=GregHogg"
   ]
  },
  {
   "cell_type": "code",
   "execution_count": 17,
   "metadata": {},
   "outputs": [],
   "source": [
    "coins = [1,4,5]\n",
    "amount = 12"
   ]
  },
  {
   "cell_type": "code",
   "execution_count": 21,
   "metadata": {},
   "outputs": [],
   "source": [
    "def coin_change(coins:list, amount:int)-> int:\n",
    "    coins.sort()\n",
    "    dp = [0]*(amount+1)\n",
    "    \n",
    "    for i in range(1, amount+1):\n",
    "        minn = float('inf')\n",
    "        for coin in coins:\n",
    "            diff = i-coin\n",
    "            # diff means that we need to find how many coins are needed for diff as we have already found one coin through which is \"coin\" here\n",
    "            # now, we only we need to find the number of coins needed for diff\n",
    "            if diff<0:\n",
    "                break;\n",
    "            minn = min(minn, dp[diff]+1) \n",
    "            # this +1 means the \"coin\" which we have subtracted from i will also be used along with number of coins at dp[diff]\n",
    "            \n",
    "        dp[i]=minn\n",
    "    \n",
    "    if dp[amount]< float('inf'):\n",
    "        return dp[amount]\n",
    "    else:\n",
    "        return -1\n",
    "    "
   ]
  },
  {
   "cell_type": "code",
   "execution_count": 23,
   "metadata": {},
   "outputs": [
    {
     "data": {
      "text/plain": [
       "3"
      ]
     },
     "execution_count": 23,
     "metadata": {},
     "output_type": "execute_result"
    }
   ],
   "source": [
    "coin_change(coins=coins, amount=amount)\n"
   ]
  },
  {
   "cell_type": "code",
   "execution_count": null,
   "metadata": {},
   "outputs": [],
   "source": []
  }
 ],
 "metadata": {
  "kernelspec": {
   "display_name": "python38",
   "language": "python",
   "name": "python3"
  },
  "language_info": {
   "codemirror_mode": {
    "name": "ipython",
    "version": 3
   },
   "file_extension": ".py",
   "mimetype": "text/x-python",
   "name": "python",
   "nbconvert_exporter": "python",
   "pygments_lexer": "ipython3",
   "version": "3.8.18"
  }
 },
 "nbformat": 4,
 "nbformat_minor": 2
}

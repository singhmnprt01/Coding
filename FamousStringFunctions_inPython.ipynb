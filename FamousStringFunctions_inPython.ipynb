{
 "cells": [
  {
   "cell_type": "code",
   "execution_count": null,
   "metadata": {},
   "outputs": [],
   "source": [
    "# # Famous String functions in python:\n",
    "# [1]: https://www.geeksforgeeks.org/7-useful-string-functions-in-python/ \"\"\n",
    "# [2]: https://www.geeksforgeeks.org/python-string-methods/ \"\"\n",
    "# [3]: https://www.pythonmorsels.com/string-methods/ \"\"\n",
    "\n",
    "# Sure, here are some of the most commonly used and handy string functions in Python:\n",
    "\n",
    "# 1. **capitalize()**: This function converts the first letter of the string into uppercase and the rest of the characters remain the same¹[1][1].\n",
    "\n",
    "# 2. **count()**: This function is used to count the number of occurrences of an individual element or substring that appears within the string¹[1][1].\n",
    "\n",
    "# 3. **find()**: This function returns the lowest index value from the first occurrence of a string (only in case if it's found); else the value would be -1¹[1][1].\n",
    "\n",
    "# 4. **lower()**: This function is used to convert all the uppercase characters in the string into lowercase¹[1][1].\n",
    "\n",
    "# 5. **upper()**: This function converts all lowercase characters in a string into uppercase¹[1][1].\n",
    "\n",
    "# 6. **title()**: This function converts the first character of each word to uppercase and the remaining characters to lowercase²[2][2].\n",
    "\n",
    "# 7. **swapcase()**: This function swaps the case of all characters in a string²[2][2].\n",
    "\n",
    "# 8. **replace()**: This function replaces a specified phrase with another specified phrase¹[1][1].\n",
    "\n",
    "# 9. **join()**: This function takes all items in an iterable and joins them into one string¹[1][1].\n",
    "\n",
    "# 10. **strip()**: This function removes any leading (spaces at the beginning) and trailing (spaces at the end) characters (space is the default leading character to remove)²[2][2].\n",
    "\n",
    "# 11. **split()**: This function splits a string into a list where each word is a list item²[2][2].\n",
    "\n",
    "# 12. **format()**: This function formats specified values in a string²[2][2].\n",
    "\n",
    "# These functions are very useful for manipulating and analyzing strings in Python¹[1][1]²[2][2].\n",
    "\n",
    "# Source: Conversation with Bing, 4/25/2024\n",
    "# (1) 7 Useful String Functions in Python - GeeksforGeeks. https://www.geeksforgeeks.org/7-useful-string-functions-in-python/.\n",
    "# (2) Python String Methods - GeeksforGeeks. https://www.geeksforgeeks.org/python-string-methods/.\n",
    "# (3) Python's 12 Best String Methods - Python Morsels. https://www.pythonmorsels.com/string-methods/."
   ]
  },
  {
   "cell_type": "code",
   "execution_count": 10,
   "metadata": {},
   "outputs": [],
   "source": [
    "mystr = \"the sky is blue today  and it Is great to be here as it is \""
   ]
  },
  {
   "cell_type": "code",
   "execution_count": 11,
   "metadata": {},
   "outputs": [
    {
     "data": {
      "text/plain": [
       "'The sky is blue today  and it is great to be here as it is '"
      ]
     },
     "execution_count": 11,
     "metadata": {},
     "output_type": "execute_result"
    }
   ],
   "source": [
    "mystr.capitalize()"
   ]
  },
  {
   "cell_type": "code",
   "execution_count": 12,
   "metadata": {},
   "outputs": [
    {
     "data": {
      "text/plain": [
       "2"
      ]
     },
     "execution_count": 12,
     "metadata": {},
     "output_type": "execute_result"
    }
   ],
   "source": [
    "mystr.count('is') # number of \"is\" in mystr, one \"is\" is in caps"
   ]
  },
  {
   "cell_type": "code",
   "execution_count": 13,
   "metadata": {},
   "outputs": [
    {
     "data": {
      "text/plain": [
       "8"
      ]
     },
     "execution_count": 13,
     "metadata": {},
     "output_type": "execute_result"
    }
   ],
   "source": [
    "mystr.find('is') #8th index"
   ]
  },
  {
   "cell_type": "code",
   "execution_count": 14,
   "metadata": {},
   "outputs": [
    {
     "data": {
      "text/plain": [
       "'the sky is blue today  and it is great to be here as it is '"
      ]
     },
     "execution_count": 14,
     "metadata": {},
     "output_type": "execute_result"
    }
   ],
   "source": [
    "mystr.lower()"
   ]
  },
  {
   "cell_type": "code",
   "execution_count": 15,
   "metadata": {},
   "outputs": [
    {
     "data": {
      "text/plain": [
       "'THE SKY IS BLUE TODAY  AND IT IS GREAT TO BE HERE AS IT IS '"
      ]
     },
     "execution_count": 15,
     "metadata": {},
     "output_type": "execute_result"
    }
   ],
   "source": [
    "mystr.upper()"
   ]
  },
  {
   "cell_type": "code",
   "execution_count": 16,
   "metadata": {},
   "outputs": [
    {
     "data": {
      "text/plain": [
       "'The Sky Is Blue Today  And It Is Great To Be Here As It Is '"
      ]
     },
     "execution_count": 16,
     "metadata": {},
     "output_type": "execute_result"
    }
   ],
   "source": [
    "mystr.title()"
   ]
  },
  {
   "cell_type": "code",
   "execution_count": 19,
   "metadata": {},
   "outputs": [
    {
     "data": {
      "text/plain": [
       "'THE SKY IS BLUE TODAY  AND IT iS GREAT TO BE HERE AS IT IS '"
      ]
     },
     "execution_count": 19,
     "metadata": {},
     "output_type": "execute_result"
    }
   ],
   "source": [
    "mystr.swapcase()"
   ]
  },
  {
   "cell_type": "code",
   "execution_count": 21,
   "metadata": {},
   "outputs": [
    {
     "data": {
      "text/plain": [
       "'the sky are blue today  and it Is great to be here as it are '"
      ]
     },
     "execution_count": 21,
     "metadata": {},
     "output_type": "execute_result"
    }
   ],
   "source": [
    "mystr.replace('is','are')\n",
    "# replace all \"is\" with \"are\""
   ]
  },
  {
   "cell_type": "code",
   "execution_count": 27,
   "metadata": {},
   "outputs": [
    {
     "data": {
      "text/plain": [
       "'t h e   s k y   i s   b l u e   t o d a y     a n d   i t   I s   g r e a t   t o   b e   h e r e   a s   i t   i s  '"
      ]
     },
     "execution_count": 27,
     "metadata": {},
     "output_type": "execute_result"
    }
   ],
   "source": [
    "\" \".join(mystr)\n",
    "# take each char and join them with space\" \""
   ]
  },
  {
   "cell_type": "code",
   "execution_count": 28,
   "metadata": {},
   "outputs": [
    {
     "data": {
      "text/plain": [
       "'the sky is blue today  and it Is great to be here as it is'"
      ]
     },
     "execution_count": 28,
     "metadata": {},
     "output_type": "execute_result"
    }
   ],
   "source": [
    "mystr.strip()\n",
    "# This function removes any leading (spaces at the beginning) and trailing (spaces at the end) characters (space is the default leading character to remove)"
   ]
  },
  {
   "cell_type": "code",
   "execution_count": 29,
   "metadata": {},
   "outputs": [
    {
     "data": {
      "text/plain": [
       "' sky is blue today  and it Is great to be here as it is '"
      ]
     },
     "execution_count": 29,
     "metadata": {},
     "output_type": "execute_result"
    }
   ],
   "source": [
    "mystr.strip(\"the\")"
   ]
  },
  {
   "cell_type": "code",
   "execution_count": 30,
   "metadata": {},
   "outputs": [
    {
     "data": {
      "text/plain": [
       "['the',\n",
       " 'sky',\n",
       " 'is',\n",
       " 'blue',\n",
       " 'today',\n",
       " 'and',\n",
       " 'it',\n",
       " 'Is',\n",
       " 'great',\n",
       " 'to',\n",
       " 'be',\n",
       " 'here',\n",
       " 'as',\n",
       " 'it',\n",
       " 'is']"
      ]
     },
     "execution_count": 30,
     "metadata": {},
     "output_type": "execute_result"
    }
   ],
   "source": [
    "mystr.split()\n",
    "# This function splits a string into a list where each word is a list item"
   ]
  }
 ],
 "metadata": {
  "kernelspec": {
   "display_name": "python38",
   "language": "python",
   "name": "python3"
  },
  "language_info": {
   "codemirror_mode": {
    "name": "ipython",
    "version": 3
   },
   "file_extension": ".py",
   "mimetype": "text/x-python",
   "name": "python",
   "nbconvert_exporter": "python",
   "pygments_lexer": "ipython3",
   "version": "3.8.18"
  }
 },
 "nbformat": 4,
 "nbformat_minor": 2
}

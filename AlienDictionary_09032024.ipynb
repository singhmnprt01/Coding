{
 "cells": [
  {
   "cell_type": "code",
   "execution_count": null,
   "metadata": {},
   "outputs": [],
   "source": [
    "# General Coding\tGiven a list of an unknown language words in sorted order, return its alphabet order \n",
    "\n",
    "#   Example 1: \n",
    "#    Input: sortedWords = [\"pvk\", \"pvc\", \"bv\", \"bkk, \"vkcc\"] \n",
    "#    Output: \"pbvkc\" \n",
    "\n",
    "#   Example 2: \n",
    "#     Input: sortedWords = [\"j\", \"g\"] \n",
    "#     Output: \"jg\" \n"
   ]
  },
  {
   "cell_type": "code",
   "execution_count": 1,
   "metadata": {},
   "outputs": [],
   "source": [
    "sortedWords = [\"pvk\", \"pvc\", \"bv\", \"bkk\", \"vkcc\"] "
   ]
  },
  {
   "cell_type": "code",
   "execution_count": 8,
   "metadata": {},
   "outputs": [
    {
     "data": {
      "text/plain": [
       "['p', 'v', 'k', 'p', 'v', 'c', 'b', 'v', 'b', 'k', 'k', 'v', 'k', 'c', 'c']"
      ]
     },
     "execution_count": 8,
     "metadata": {},
     "output_type": "execute_result"
    }
   ],
   "source": [
    "[character for words in sortedWords for character in words]"
   ]
  },
  {
   "cell_type": "code",
   "execution_count": 10,
   "metadata": {},
   "outputs": [
    {
     "data": {
      "text/plain": [
       "{'b', 'c', 'k', 'p', 'v'}"
      ]
     },
     "execution_count": 10,
     "metadata": {},
     "output_type": "execute_result"
    }
   ],
   "source": [
    "set([character for words in sortedWords for character in words])"
   ]
  }
 ],
 "metadata": {
  "kernelspec": {
   "display_name": "python38",
   "language": "python",
   "name": "python3"
  },
  "language_info": {
   "codemirror_mode": {
    "name": "ipython",
    "version": 3
   },
   "file_extension": ".py",
   "mimetype": "text/x-python",
   "name": "python",
   "nbconvert_exporter": "python",
   "pygments_lexer": "ipython3",
   "version": "3.8.18"
  }
 },
 "nbformat": 4,
 "nbformat_minor": 2
}

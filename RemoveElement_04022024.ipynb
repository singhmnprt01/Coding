{
 "cells": [
  {
   "cell_type": "code",
   "execution_count": null,
   "metadata": {},
   "outputs": [],
   "source": [
    "# Question: Remove Element\n",
    "# Link: https://leetcode.com/problems/remove-element/?envType=study-plan-v2&envId=top-interview-150\n"
   ]
  },
  {
   "cell_type": "code",
   "execution_count": 1,
   "metadata": {},
   "outputs": [],
   "source": [
    "class Solution:\n",
    "    def removeElement(self, nums, val):\n",
    "        start,next=0,0\n",
    "        nums.sort()\n",
    "        counter=0\n",
    "        # [0,0,1,2,2,2,3,4]\n",
    "        # [0,0,1,3,4,2,2,2]\n",
    "        for i in range(len(nums)):\n",
    "            if nums[i]==val:\n",
    "                next+=1\n",
    "            else:\n",
    "                counter+=1\n",
    "                if start==next:\n",
    "                    start+=1\n",
    "                    next+=1\n",
    "                else:\n",
    "                    nums[start],nums[next]=nums[next],nums[start]\n",
    "                    start+=1\n",
    "                    next+=1\n",
    "        return counter\n",
    "    "
   ]
  }
 ],
 "metadata": {
  "kernelspec": {
   "display_name": "python38",
   "language": "python",
   "name": "python3"
  },
  "language_info": {
   "codemirror_mode": {
    "name": "ipython",
    "version": 3
   },
   "file_extension": ".py",
   "mimetype": "text/x-python",
   "name": "python",
   "nbconvert_exporter": "python",
   "pygments_lexer": "ipython3",
   "version": "3.8.18"
  }
 },
 "nbformat": 4,
 "nbformat_minor": 2
}

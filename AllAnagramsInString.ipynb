{
 "cells": [
  {
   "cell_type": "code",
   "execution_count": null,
   "metadata": {},
   "outputs": [],
   "source": [
    "# Finding all starting positions of anagrams of word w in string s. For example, if w = \"cat\" and s = \"abcatytacq\", \n",
    "# one would have to return [2, 6] because \"cat\" which is an anagram of itself starts on position 2 and \"tac\" which starts on position 6"
   ]
  },
  {
   "cell_type": "code",
   "execution_count": null,
   "metadata": {},
   "outputs": [],
   "source": [
    "# https://leetcode.com/problems/find-all-anagrams-in-a-string/description/"
   ]
  },
  {
   "cell_type": "code",
   "execution_count": 14,
   "metadata": {},
   "outputs": [],
   "source": [
    "w = \"ab\"\n",
    "s=\"abab\"\n",
    "result=[]"
   ]
  },
  {
   "cell_type": "code",
   "execution_count": 15,
   "metadata": {},
   "outputs": [],
   "source": [
    "for i in range(0, len(s)):\n",
    "    if sorted(w)==sorted(s[i:i+len(w)]):\n",
    "        result.append(i)"
   ]
  },
  {
   "cell_type": "code",
   "execution_count": 16,
   "metadata": {},
   "outputs": [
    {
     "data": {
      "text/plain": [
       "[0, 1, 2]"
      ]
     },
     "execution_count": 16,
     "metadata": {},
     "output_type": "execute_result"
    }
   ],
   "source": [
    "result"
   ]
  },
  {
   "cell_type": "code",
   "execution_count": 1,
   "metadata": {},
   "outputs": [],
   "source": [
    "from collections import Counter"
   ]
  },
  {
   "cell_type": "code",
   "execution_count": null,
   "metadata": {},
   "outputs": [],
   "source": [
    "# SOlution 2: \n",
    "class Solution:\n",
    "    def findAnagrams(self, s: str, p: str):\n",
    "        if len(s) < len(p):\n",
    "            return []\n",
    "        \n",
    "        need = Counter(p)\n",
    "        cur, lo = 0, 0\n",
    "        ret = []\n",
    "\n",
    "        for i, c in enumerate(s):\n",
    "            need[c] -= 1\n",
    "            cur += 1\n",
    "            while need[c] < 0:\n",
    "                need[s[lo]] += 1\n",
    "                lo += 1\n",
    "                cur -= 1\n",
    "            if cur == len(p):\n",
    "                ret.append(lo)\n",
    "        return ret"
   ]
  }
 ],
 "metadata": {
  "kernelspec": {
   "display_name": "python38",
   "language": "python",
   "name": "python3"
  },
  "language_info": {
   "codemirror_mode": {
    "name": "ipython",
    "version": 3
   },
   "file_extension": ".py",
   "mimetype": "text/x-python",
   "name": "python",
   "nbconvert_exporter": "python",
   "pygments_lexer": "ipython3",
   "version": "3.8.18"
  }
 },
 "nbformat": 4,
 "nbformat_minor": 2
}

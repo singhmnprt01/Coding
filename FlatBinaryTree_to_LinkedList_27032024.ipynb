{
 "cells": [
  {
   "cell_type": "code",
   "execution_count": null,
   "metadata": {},
   "outputs": [],
   "source": [
    "# https://leetcode.com/problems/flatten-binary-tree-to-linked-list/?envType=study-plan-v2&envId=top-interview-150"
   ]
  },
  {
   "cell_type": "code",
   "execution_count": 18,
   "metadata": {},
   "outputs": [],
   "source": [
    "class Node:\n",
    "    def __init__(self, item):\n",
    "        self.left=None\n",
    "        self.right=None\n",
    "        self.item=item\n",
    "        \n",
    "root = Node(1)\n",
    "root.left=Node(2)\n",
    "root.left.left=Node(3)\n",
    "root.left.right=Node(4)\n",
    "\n",
    "root.right=Node(5)\n",
    "root.right.right=Node(6)"
   ]
  },
  {
   "cell_type": "code",
   "execution_count": 19,
   "metadata": {},
   "outputs": [],
   "source": [
    "class NodeLinkedList:\n",
    "    def __init__(self, item):\n",
    "        self.item=item\n",
    "        self.next=None\n",
    "class LinkedList:\n",
    "    def __init__(self):\n",
    "        self.head=None\n",
    "        self.tail=None\n",
    "    \n",
    "    def add_next(self, item):\n",
    "        newnode=NodeLinkedList(item)\n",
    "        if self.head==None and self.tail==None:\n",
    "            self.head=newnode\n",
    "            self.tail=newnode\n",
    "        else:\n",
    "            self.tail.next=newnode\n",
    "            self.tail = newnode"
   ]
  },
  {
   "cell_type": "code",
   "execution_count": 20,
   "metadata": {},
   "outputs": [],
   "source": [
    "lt = LinkedList()\n",
    "def flatLinkedList(root):\n",
    "    global lt\n",
    "    if root!=None:\n",
    "        # print(root.item)\n",
    "        lt.add_next(root.item)\n",
    "\n",
    "        flatLinkedList(root.left)\n",
    "        flatLinkedList(root.right)"
   ]
  },
  {
   "cell_type": "code",
   "execution_count": 21,
   "metadata": {},
   "outputs": [],
   "source": [
    "flatLinkedList(root)"
   ]
  },
  {
   "cell_type": "code",
   "execution_count": 22,
   "metadata": {},
   "outputs": [
    {
     "name": "stdout",
     "output_type": "stream",
     "text": [
      "1\n",
      "2\n",
      "3\n",
      "4\n",
      "5\n",
      "6\n"
     ]
    }
   ],
   "source": [
    "current = lt.head \n",
    "while current:\n",
    "    print(current.item)\n",
    "    current=current.next"
   ]
  }
 ],
 "metadata": {
  "kernelspec": {
   "display_name": "python38",
   "language": "python",
   "name": "python3"
  },
  "language_info": {
   "codemirror_mode": {
    "name": "ipython",
    "version": 3
   },
   "file_extension": ".py",
   "mimetype": "text/x-python",
   "name": "python",
   "nbconvert_exporter": "python",
   "pygments_lexer": "ipython3",
   "version": "3.8.18"
  }
 },
 "nbformat": 4,
 "nbformat_minor": 2
}

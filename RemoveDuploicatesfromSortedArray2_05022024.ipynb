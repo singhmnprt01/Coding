{
 "cells": [
  {
   "cell_type": "code",
   "execution_count": 1,
   "metadata": {},
   "outputs": [],
   "source": [
    "# Question: Remove Duplicates from Sorted Array II\n",
    "# link:https://leetcode.com/problems/remove-duplicates-from-sorted-array-ii/description/?envType=study-plan-v2&envId=top-interview-150\n"
   ]
  },
  {
   "cell_type": "code",
   "execution_count": null,
   "metadata": {},
   "outputs": [],
   "source": [
    "# Input: nums = [0,0,1,1,1,1,2,3,3]\n",
    "# Output: 7, nums = [0,0,1,1,2,3,3,_,_]\n",
    "# Explanation: Your function should return k = 7, with the first seven elements of nums being 0, 0, 1, 1, 2, 3 and 3 respectively.\n",
    "# It does not matter what you leave beyond the returned k (hence they are underscores)."
   ]
  },
  {
   "cell_type": "code",
   "execution_count": 32,
   "metadata": {},
   "outputs": [],
   "source": [
    "myarr=[0,0,0,1,1,1,1,2,3,3]"
   ]
  },
  {
   "cell_type": "code",
   "execution_count": 24,
   "metadata": {},
   "outputs": [],
   "source": [
    "# myarr=[0,0,0,1,1,1,1,2,3,3]\n",
    "# method 1: Using a new array\n",
    "next=1\n",
    "new=0\n",
    "newarr=[-1]*len(myarr)\n",
    "for i in range(0,len(myarr)-1):\n",
    "    if myarr[i]==myarr[next]:\n",
    "        if newarr.count(myarr[i])==0:\n",
    "            newarr[new],newarr[new+1]=myarr[i],myarr[i]\n",
    "            new+=2\n",
    "            next+=1\n",
    "        elif newarr.count(myarr[i])==1:\n",
    "            newarr[new]=myarr[i]\n",
    "            new+=1\n",
    "            next+=1\n",
    "        else:\n",
    "            next+=1\n",
    "    else:\n",
    "        newarr[new]=myarr[next]\n",
    "        next+=1\n",
    "        new+=1"
   ]
  },
  {
   "cell_type": "code",
   "execution_count": 25,
   "metadata": {},
   "outputs": [
    {
     "data": {
      "text/plain": [
       "[0, 0, 1, 1, 2, 3, 3, -1, -1, -1]"
      ]
     },
     "execution_count": 25,
     "metadata": {},
     "output_type": "execute_result"
    }
   ],
   "source": [
    "newarr"
   ]
  },
  {
   "cell_type": "code",
   "execution_count": null,
   "metadata": {},
   "outputs": [],
   "source": []
  },
  {
   "cell_type": "code",
   "execution_count": 86,
   "metadata": {},
   "outputs": [],
   "source": [
    "# method2: in-place\n",
    "myarr=[0,0,1,1,1,1,2,2,2,3,3]\n",
    "i=1\n",
    "while i<len(myarr)-1:\n",
    "    if myarr[i]==myarr[i+1] and myarr[i]==myarr[i-1]:\n",
    "        myarr.pop(i+1)\n",
    "        i=i-1\n",
    "    i+=1"
   ]
  },
  {
   "cell_type": "code",
   "execution_count": 87,
   "metadata": {},
   "outputs": [
    {
     "data": {
      "text/plain": [
       "[0, 0, 1, 1, 2, 2, 3, 3]"
      ]
     },
     "execution_count": 87,
     "metadata": {},
     "output_type": "execute_result"
    }
   ],
   "source": [
    "myarr"
   ]
  },
  {
   "cell_type": "code",
   "execution_count": null,
   "metadata": {},
   "outputs": [],
   "source": []
  }
 ],
 "metadata": {
  "kernelspec": {
   "display_name": "python38",
   "language": "python",
   "name": "python3"
  },
  "language_info": {
   "codemirror_mode": {
    "name": "ipython",
    "version": 3
   },
   "file_extension": ".py",
   "mimetype": "text/x-python",
   "name": "python",
   "nbconvert_exporter": "python",
   "pygments_lexer": "ipython3",
   "version": "3.8.18"
  }
 },
 "nbformat": 4,
 "nbformat_minor": 2
}

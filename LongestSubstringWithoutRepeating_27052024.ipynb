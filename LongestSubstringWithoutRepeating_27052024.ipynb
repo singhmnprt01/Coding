{
 "cells": [
  {
   "cell_type": "code",
   "execution_count": 1,
   "metadata": {},
   "outputs": [],
   "source": [
    "# https://leetcode.com/problems/longest-substring-without-repeating-characters/description/"
   ]
  },
  {
   "cell_type": "code",
   "execution_count": null,
   "metadata": {},
   "outputs": [],
   "source": [
    "# Example 1:\n",
    "\n",
    "# Input: s = \"abcabcbb\"\n",
    "# Output: 3\n",
    "# Explanation: The answer is \"abc\", with the length of 3.\n",
    "# Example 2:\n",
    "\n",
    "# Input: s = \"bbbbb\"\n",
    "# Output: 1\n",
    "# Explanation: The answer is \"b\", with the length of 1.\n",
    "# Example 3:\n",
    "\n",
    "# Input: s = \"pwwkew\"\n",
    "# Output: 3\n",
    "# Explanation: The answer is \"wke\", with the length of 3.\n",
    "# Notice that the answer must be a substring, \"pwke\" is a subsequence and not a substring.\n",
    " "
   ]
  },
  {
   "cell_type": "code",
   "execution_count": 55,
   "metadata": {},
   "outputs": [
    {
     "name": "stdout",
     "output_type": "stream",
     "text": [
      "3\n"
     ]
    }
   ],
   "source": [
    "mystr = \"pwwkew\"\n",
    "str_len = len(mystr)\n",
    "start=0\n",
    "end=start\n",
    "long_substring=0\n",
    "temp = []\n",
    "\n",
    "start=-1\n",
    "# time complexity is O(n)\n",
    "for i in range(0, len(mystr)):\n",
    "    if mystr[i] not in temp:\n",
    "        temp.append(mystr[i])\n",
    "        long_substring = max(long_substring, len(set(temp)))\n",
    "    else:\n",
    "        start+=1\n",
    "        while mystr[i] in temp:\n",
    "            temp.pop(0)\n",
    "        # newlen = i-start\n",
    "        # temp.pop(0)\n",
    "        temp.append(mystr[i])\n",
    "        long_substring = max(long_substring, len(set(temp)))\n",
    "\n",
    "\n",
    "print(long_substring)\n",
    "        \n",
    "    "
   ]
  }
 ],
 "metadata": {
  "kernelspec": {
   "display_name": "python38",
   "language": "python",
   "name": "python3"
  },
  "language_info": {
   "codemirror_mode": {
    "name": "ipython",
    "version": 3
   },
   "file_extension": ".py",
   "mimetype": "text/x-python",
   "name": "python",
   "nbconvert_exporter": "python",
   "pygments_lexer": "ipython3",
   "version": "3.8.18"
  }
 },
 "nbformat": 4,
 "nbformat_minor": 2
}

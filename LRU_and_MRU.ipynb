{
 "cells": [
  {
   "cell_type": "code",
   "execution_count": null,
   "metadata": {},
   "outputs": [],
   "source": [
    "# LRU Cache\n",
    "https://leetcode.com/problems/lru-cache/description/\n"
   ]
  },
  {
   "cell_type": "code",
   "execution_count": 3,
   "metadata": {},
   "outputs": [],
   "source": [
    "# class LRUcache:\n",
    "#     def __init__(self, capacity:int):\n",
    "#         self.capacity=capacity"
   ]
  },
  {
   "cell_type": "code",
   "execution_count": 14,
   "metadata": {},
   "outputs": [],
   "source": [
    "class Node:\n",
    "    def __init__(self, item):\n",
    "        self.item=item\n",
    "        self.next=None\n",
    "\n",
    "class LRUcache:\n",
    "    def __init__(self, capacity):\n",
    "        self.head=None\n",
    "        self.tail=None\n",
    "        self.capacity = capacity\n",
    "        self.current_capacity=0\n",
    "    \n",
    "    def add_next(self,item):\n",
    "                new_node = Node(item)\n",
    "                if self.head==None and self.tail==None:\n",
    "                    self.head=new_node\n",
    "                    self.tail=new_node\n",
    "                else:\n",
    "                    self.tail.next=new_node\n",
    "                    self.tail=new_node\n",
    "                self.current_capacity+=1\n",
    "        \n",
    "    def put(self, value):\n",
    "        if self.current_capacity>=self.capacity:\n",
    "            self.head=self.head.next\n",
    "            self.current_capacity-=1\n",
    "            self.add_next(value)\n",
    "        else:\n",
    "            start=self.head\n",
    "            while start.item!=value:\n",
    "                start=start.next\n",
    "                if start==None:\n",
    "                    break;\n",
    "            if start==None:    \n",
    "                self.add_next(value)\n",
    "            else:\n",
    "                # move to end\n",
    "                pass;\n",
    "\n",
    "    def get(self, item2):\n",
    "        start = self.head\n",
    "        start_minus_1 =None\n",
    "        while start.item!=item2:\n",
    "            start_minus_1=start\n",
    "            start=start.next\n",
    "            if start==None:\n",
    "                break;\n",
    "        if start==None:\n",
    "            return -1\n",
    "        else:\n",
    "            myitem = start.item\n",
    "            if start!=self.head:\n",
    "                start_minus_1.next = start.next\n",
    "                del start\n",
    "                new_node = Node(myitem)\n",
    "                # move to end\n",
    "                new_node.next=self.tail\n",
    "                self.tail=new_node\n",
    "            return myitem\n",
    "            \n",
    "    def display(self):\n",
    "        start=self.head\n",
    "        while start:\n",
    "            print(start.item)\n",
    "            start=start.next        "
   ]
  },
  {
   "cell_type": "code",
   "execution_count": 15,
   "metadata": {},
   "outputs": [
    {
     "ename": "AttributeError",
     "evalue": "'NoneType' object has no attribute 'item'",
     "output_type": "error",
     "traceback": [
      "\u001b[1;31m---------------------------------------------------------------------------\u001b[0m",
      "\u001b[1;31mAttributeError\u001b[0m                            Traceback (most recent call last)",
      "Cell \u001b[1;32mIn[15], line 2\u001b[0m\n\u001b[0;32m      1\u001b[0m myll \u001b[38;5;241m=\u001b[39m LRUcache(\u001b[38;5;241m2\u001b[39m)\n\u001b[1;32m----> 2\u001b[0m \u001b[43mmyll\u001b[49m\u001b[38;5;241;43m.\u001b[39;49m\u001b[43mput\u001b[49m\u001b[43m(\u001b[49m\u001b[38;5;241;43m10\u001b[39;49m\u001b[43m)\u001b[49m\n\u001b[0;32m      3\u001b[0m myll\u001b[38;5;241m.\u001b[39mput(\u001b[38;5;241m20\u001b[39m)\n\u001b[0;32m      4\u001b[0m myll\u001b[38;5;241m.\u001b[39mput(\u001b[38;5;241m30\u001b[39m)\n",
      "Cell \u001b[1;32mIn[14], line 31\u001b[0m, in \u001b[0;36mLRUcache.put\u001b[1;34m(self, value)\u001b[0m\n\u001b[0;32m     28\u001b[0m \u001b[38;5;28;01melse\u001b[39;00m:\n\u001b[0;32m     30\u001b[0m     start\u001b[38;5;241m=\u001b[39m\u001b[38;5;28mself\u001b[39m\u001b[38;5;241m.\u001b[39mhead\n\u001b[1;32m---> 31\u001b[0m     \u001b[38;5;28;01mwhile\u001b[39;00m \u001b[43mstart\u001b[49m\u001b[38;5;241;43m.\u001b[39;49m\u001b[43mitem\u001b[49m\u001b[38;5;241m!=\u001b[39mvalue:\n\u001b[0;32m     32\u001b[0m         start\u001b[38;5;241m=\u001b[39mstart\u001b[38;5;241m.\u001b[39mnext\n\u001b[0;32m     33\u001b[0m         \u001b[38;5;28;01mif\u001b[39;00m start\u001b[38;5;241m==\u001b[39m\u001b[38;5;28;01mNone\u001b[39;00m:\n",
      "\u001b[1;31mAttributeError\u001b[0m: 'NoneType' object has no attribute 'item'"
     ]
    }
   ],
   "source": [
    "myll = LRUcache(2)\n",
    "myll.put(10)\n",
    "myll.put(20)\n",
    "myll.put(30)\n",
    "myll.put(40)"
   ]
  },
  {
   "cell_type": "code",
   "execution_count": 6,
   "metadata": {},
   "outputs": [
    {
     "name": "stdout",
     "output_type": "stream",
     "text": [
      "10\n",
      "20\n",
      "30\n",
      "40\n"
     ]
    }
   ],
   "source": [
    "myll.display()"
   ]
  },
  {
   "cell_type": "code",
   "execution_count": 11,
   "metadata": {},
   "outputs": [
    {
     "data": {
      "text/plain": [
       "20"
      ]
     },
     "execution_count": 11,
     "metadata": {},
     "output_type": "execute_result"
    }
   ],
   "source": [
    "myll.get(20)"
   ]
  },
  {
   "cell_type": "code",
   "execution_count": 12,
   "metadata": {},
   "outputs": [
    {
     "name": "stdout",
     "output_type": "stream",
     "text": [
      "20\n",
      "30\n",
      "10\n",
      "40\n"
     ]
    }
   ],
   "source": [
    "myll.display()"
   ]
  },
  {
   "cell_type": "code",
   "execution_count": null,
   "metadata": {},
   "outputs": [],
   "source": [
    "myll.put(50)"
   ]
  },
  {
   "cell_type": "code",
   "execution_count": 149,
   "metadata": {},
   "outputs": [],
   "source": [
    "from collections import OrderedDict"
   ]
  },
  {
   "cell_type": "code",
   "execution_count": 206,
   "metadata": {},
   "outputs": [],
   "source": [
    "\n",
    "class LRUcache:\n",
    "    def __init__(self, capacity):\n",
    "        self.capacity = capacity\n",
    "        self.cache = OrderedDict()\n",
    "        \n",
    "    def get(self,key):\n",
    "        if key in self.cache:\n",
    "            self.cache.move_to_end(key)\n",
    "            return self.cache[key]\n",
    "        else:\n",
    "            return -1\n",
    "        \n",
    "    def put(self, key, value):\n",
    "        if key in self.cache:\n",
    "            self.cache[key]=value\n",
    "            self.cache.move_to_end(key)\n",
    "        else:\n",
    "            if len(self.cache)>=self.capacity:\n",
    "                self.cache.popitem(last=False)\n",
    "            self.cache[key]=value"
   ]
  },
  {
   "cell_type": "code",
   "execution_count": 226,
   "metadata": {},
   "outputs": [],
   "source": [
    "lru = LRUcache(3)"
   ]
  },
  {
   "cell_type": "code",
   "execution_count": 227,
   "metadata": {},
   "outputs": [],
   "source": [
    "lru.put(1,1)\n",
    "lru.put(2,2)\n",
    "lru.put(3,3)\n",
    "lru.put(4,4)"
   ]
  },
  {
   "cell_type": "code",
   "execution_count": 228,
   "metadata": {},
   "outputs": [
    {
     "data": {
      "text/plain": [
       "OrderedDict([(2, 2), (3, 3), (4, 4)])"
      ]
     },
     "execution_count": 228,
     "metadata": {},
     "output_type": "execute_result"
    }
   ],
   "source": [
    "lru.cache"
   ]
  },
  {
   "cell_type": "code",
   "execution_count": 229,
   "metadata": {},
   "outputs": [
    {
     "data": {
      "text/plain": [
       "2"
      ]
     },
     "execution_count": 229,
     "metadata": {},
     "output_type": "execute_result"
    }
   ],
   "source": [
    "lru.get(2)"
   ]
  },
  {
   "cell_type": "code",
   "execution_count": 230,
   "metadata": {},
   "outputs": [
    {
     "data": {
      "text/plain": [
       "OrderedDict([(3, 3), (4, 4), (2, 2)])"
      ]
     },
     "execution_count": 230,
     "metadata": {},
     "output_type": "execute_result"
    }
   ],
   "source": [
    "lru.cache"
   ]
  },
  {
   "cell_type": "code",
   "execution_count": 231,
   "metadata": {},
   "outputs": [],
   "source": [
    "lru.put(5,5)"
   ]
  },
  {
   "cell_type": "code",
   "execution_count": 233,
   "metadata": {},
   "outputs": [
    {
     "data": {
      "text/plain": [
       "OrderedDict([(4, 4), (2, 2), (5, 5)])"
      ]
     },
     "execution_count": 233,
     "metadata": {},
     "output_type": "execute_result"
    }
   ],
   "source": [
    "lru.cache"
   ]
  },
  {
   "cell_type": "code",
   "execution_count": 222,
   "metadata": {},
   "outputs": [],
   "source": [
    "class MRUcache:\n",
    "    def __init__(self, capacity):\n",
    "        self.capacity=capacity\n",
    "        self.cache=OrderedDict()\n",
    "    \n",
    "    def get(self, key):\n",
    "        if key in self.cache:\n",
    "            self.cache.move_to_end(key)\n",
    "            return self.cache[key]\n",
    "        else:\n",
    "            return -1\n",
    "    \n",
    "    def put(self, key, value):\n",
    "        if key in self.cache:\n",
    "            self.cache[key]=value\n",
    "            self.cache.move_to_end(key)\n",
    "        else:\n",
    "            if len(self.cache)>=self.capacity:\n",
    "                self.cache.popitem(last=True)\n",
    "            self.cache[key]=value"
   ]
  },
  {
   "cell_type": "code",
   "execution_count": 236,
   "metadata": {},
   "outputs": [],
   "source": [
    "mru = MRUcache(3)"
   ]
  },
  {
   "cell_type": "code",
   "execution_count": 237,
   "metadata": {},
   "outputs": [],
   "source": [
    "mru.put(1,1)\n",
    "mru.put(2,2)\n",
    "mru.put(3,3)\n",
    "mru.put(4,4)"
   ]
  },
  {
   "cell_type": "code",
   "execution_count": 238,
   "metadata": {},
   "outputs": [
    {
     "data": {
      "text/plain": [
       "OrderedDict([(1, 1), (2, 2), (4, 4)])"
      ]
     },
     "execution_count": 238,
     "metadata": {},
     "output_type": "execute_result"
    }
   ],
   "source": [
    "mru.cache"
   ]
  },
  {
   "cell_type": "code",
   "execution_count": 239,
   "metadata": {},
   "outputs": [
    {
     "data": {
      "text/plain": [
       "2"
      ]
     },
     "execution_count": 239,
     "metadata": {},
     "output_type": "execute_result"
    }
   ],
   "source": [
    "mru.get(2)"
   ]
  },
  {
   "cell_type": "code",
   "execution_count": 240,
   "metadata": {},
   "outputs": [
    {
     "data": {
      "text/plain": [
       "OrderedDict([(1, 1), (4, 4), (2, 2)])"
      ]
     },
     "execution_count": 240,
     "metadata": {},
     "output_type": "execute_result"
    }
   ],
   "source": [
    "mru.cache"
   ]
  },
  {
   "cell_type": "code",
   "execution_count": 241,
   "metadata": {},
   "outputs": [],
   "source": [
    "mru.put(5,5)"
   ]
  },
  {
   "cell_type": "code",
   "execution_count": 242,
   "metadata": {},
   "outputs": [
    {
     "data": {
      "text/plain": [
       "OrderedDict([(1, 1), (4, 4), (5, 5)])"
      ]
     },
     "execution_count": 242,
     "metadata": {},
     "output_type": "execute_result"
    }
   ],
   "source": [
    "mru.cache"
   ]
  }
 ],
 "metadata": {
  "kernelspec": {
   "display_name": "python38",
   "language": "python",
   "name": "python3"
  },
  "language_info": {
   "codemirror_mode": {
    "name": "ipython",
    "version": 3
   },
   "file_extension": ".py",
   "mimetype": "text/x-python",
   "name": "python",
   "nbconvert_exporter": "python",
   "pygments_lexer": "ipython3",
   "version": "3.8.18"
  }
 },
 "nbformat": 4,
 "nbformat_minor": 2
}

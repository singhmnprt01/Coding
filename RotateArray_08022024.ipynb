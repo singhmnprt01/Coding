{
 "cells": [
  {
   "cell_type": "code",
   "execution_count": 57,
   "metadata": {},
   "outputs": [],
   "source": [
    "myarr=[1,2,3,4,5,6,7]\n",
    "k=3"
   ]
  },
  {
   "cell_type": "code",
   "execution_count": 58,
   "metadata": {},
   "outputs": [
    {
     "data": {
      "text/plain": [
       "(6, 3)"
      ]
     },
     "execution_count": 58,
     "metadata": {},
     "output_type": "execute_result"
    }
   ],
   "source": [
    "len(myarr)-1, len(myarr)-k-1"
   ]
  },
  {
   "cell_type": "code",
   "execution_count": 59,
   "metadata": {},
   "outputs": [
    {
     "data": {
      "text/plain": [
       "[5, 6, 7, 1, 2, 3, 4]"
      ]
     },
     "execution_count": 59,
     "metadata": {},
     "output_type": "execute_result"
    }
   ],
   "source": [
    "\n",
    "# Method 1: in-place\n",
    "# but it's time complexity is O(n2) \n",
    "while k>0:\n",
    "    temp=myarr[len(myarr)-1]\n",
    "    # print(temp)\n",
    "    for j in range(len(myarr)-2,-1,-1):\n",
    "        # print(j)\n",
    "        myarr[j+1]=myarr[j]\n",
    "    myarr[0]=temp\n",
    "    k=k-1\n",
    "        \n",
    "\n",
    "myarr"
   ]
  },
  {
   "cell_type": "code",
   "execution_count": 3,
   "metadata": {},
   "outputs": [],
   "source": [
    "myarr=[1,2,3,4,5,6,7]\n",
    "k=3\n"
   ]
  },
  {
   "cell_type": "code",
   "execution_count": 4,
   "metadata": {},
   "outputs": [
    {
     "data": {
      "text/plain": [
       "[5, 6, 7, 1, 2, 3, 4]"
      ]
     },
     "execution_count": 4,
     "metadata": {},
     "output_type": "execute_result"
    }
   ],
   "source": [
    "# Method 1: in-place\n",
    "# Efficient Solution with O(N) time complexity\n",
    "def rotate(start, end):\n",
    "    while start < end:\n",
    "        myarr[start], myarr[end]=myarr[end], myarr[start]\n",
    "        start+=1\n",
    "        end-=1\n",
    "\n",
    "rotate(0,len(myarr)-1) ### 7654321\n",
    "rotate(0,k-1) ## 567\n",
    "rotate(k,len(myarr)-1) ## 1234\n",
    "# Final answer: 5671234\n",
    "myarr\n"
   ]
  },
  {
   "cell_type": "code",
   "execution_count": 2,
   "metadata": {},
   "outputs": [],
   "source": [
    "# Method 2: using second list (Easy)"
   ]
  }
 ],
 "metadata": {
  "kernelspec": {
   "display_name": "python38",
   "language": "python",
   "name": "python3"
  },
  "language_info": {
   "codemirror_mode": {
    "name": "ipython",
    "version": 3
   },
   "file_extension": ".py",
   "mimetype": "text/x-python",
   "name": "python",
   "nbconvert_exporter": "python",
   "pygments_lexer": "ipython3",
   "version": "3.8.18"
  }
 },
 "nbformat": 4,
 "nbformat_minor": 2
}

{
 "cells": [
  {
   "cell_type": "code",
   "execution_count": 23,
   "metadata": {},
   "outputs": [],
   "source": [
    "# https://leetcode.com/problems/gas-station/?envType=study-plan-v2&envId=top-interview-150"
   ]
  },
  {
   "cell_type": "code",
   "execution_count": 21,
   "metadata": {},
   "outputs": [],
   "source": [
    "def canCompleteCircuit( gas, cost):\n",
    "        if sum(gas) < sum(cost):\n",
    "            # If total gas is less than total cost, it's impossible to complete the circuit.\n",
    "            return -1\n",
    "\n",
    "        start, fuel = 0, 0\n",
    "        for i in range(len(gas)):\n",
    "            fuel += gas[i] - cost[i]\n",
    "            if fuel < 0:\n",
    "                # If fuel drops below 0, start from the next station.\n",
    "                start = i + 1\n",
    "                fuel = 0\n",
    "\n",
    "        return start"
   ]
  },
  {
   "cell_type": "code",
   "execution_count": 22,
   "metadata": {},
   "outputs": [
    {
     "data": {
      "text/plain": [
       "2"
      ]
     },
     "execution_count": 22,
     "metadata": {},
     "output_type": "execute_result"
    }
   ],
   "source": [
    "gas = [6,1,4,3,5]\n",
    "cost=[3,8,2,4,2]\n",
    "canCompleteCircuit(gas, cost)"
   ]
  }
 ],
 "metadata": {
  "kernelspec": {
   "display_name": "python38",
   "language": "python",
   "name": "python3"
  },
  "language_info": {
   "codemirror_mode": {
    "name": "ipython",
    "version": 3
   },
   "file_extension": ".py",
   "mimetype": "text/x-python",
   "name": "python",
   "nbconvert_exporter": "python",
   "pygments_lexer": "ipython3",
   "version": "3.8.18"
  }
 },
 "nbformat": 4,
 "nbformat_minor": 2
}

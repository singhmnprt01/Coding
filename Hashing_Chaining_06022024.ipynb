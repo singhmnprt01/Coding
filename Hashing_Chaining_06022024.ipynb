{
 "cells": [
  {
   "cell_type": "code",
   "execution_count": 2,
   "metadata": {},
   "outputs": [],
   "source": [
    "import random\n"
   ]
  },
  {
   "cell_type": "code",
   "execution_count": 48,
   "metadata": {},
   "outputs": [],
   "source": [
    "lol = [[] for _ in range(10)]"
   ]
  },
  {
   "cell_type": "code",
   "execution_count": 49,
   "metadata": {},
   "outputs": [],
   "source": [
    "# lol=[[]]*10 #This is wrong as all inner lists are same and pointing to same reference."
   ]
  },
  {
   "cell_type": "code",
   "execution_count": 1,
   "metadata": {},
   "outputs": [],
   "source": [
    "class Myhash:\n",
    "    def __init__(self, bucketsize):\n",
    "        self.BUCKET=bucketsize\n",
    "        self.mylist= [[] for _ in range(self.BUCKET)]\n",
    "    \n",
    "    def hashFun(self,key):\n",
    "        idx = key%self.BUCKET\n",
    "        # Why 7 as our list size is 10 and the closest small prime number is 7\n",
    "        return idx\n",
    "        \n",
    "    def insert(self,idx,key):\n",
    "        self.mylist[idx].append(key)\n",
    "\n",
    "    def search(self,idx, key):\n",
    "        return key in self.mylist[idx]\n",
    "\n",
    "    def delete(self,idx,key):\n",
    "        if self.search(idx,key):\n",
    "            self.mylist[idx].remove(key)\n",
    "            return True\n",
    "        else:\n",
    "            return None"
   ]
  },
  {
   "cell_type": "code",
   "execution_count": 9,
   "metadata": {},
   "outputs": [],
   "source": [
    "lol=[]"
   ]
  },
  {
   "cell_type": "code",
   "execution_count": 3,
   "metadata": {},
   "outputs": [],
   "source": [
    "myhash=Myhash(7)"
   ]
  },
  {
   "cell_type": "code",
   "execution_count": 4,
   "metadata": {},
   "outputs": [],
   "source": [
    "for i in range(25):\n",
    "    key=random.randint(0,1000)\n",
    "    idx = myhash.hashFun(key)\n",
    "    myhash.insert(idx,key)"
   ]
  },
  {
   "cell_type": "code",
   "execution_count": 5,
   "metadata": {},
   "outputs": [
    {
     "data": {
      "text/plain": [
       "[[644, 98, 497, 847],\n",
       " [911, 183, 820, 995, 841],\n",
       " [947, 37, 268, 716, 569, 415],\n",
       " [164, 556],\n",
       " [935],\n",
       " [383, 313, 943],\n",
       " [188, 524, 531, 125]]"
      ]
     },
     "execution_count": 5,
     "metadata": {},
     "output_type": "execute_result"
    }
   ],
   "source": [
    "myhash.mylist"
   ]
  },
  {
   "cell_type": "code",
   "execution_count": 6,
   "metadata": {},
   "outputs": [
    {
     "name": "stdout",
     "output_type": "stream",
     "text": [
      "2\n"
     ]
    },
    {
     "data": {
      "text/plain": [
       "False"
      ]
     },
     "execution_count": 6,
     "metadata": {},
     "output_type": "execute_result"
    }
   ],
   "source": [
    "key=100\n",
    "idx=myhash.hashFun(key)\n",
    "print(idx)\n",
    "myhash.search(idx,key)"
   ]
  },
  {
   "cell_type": "code",
   "execution_count": 7,
   "metadata": {},
   "outputs": [
    {
     "name": "stdout",
     "output_type": "stream",
     "text": [
      "1\n"
     ]
    },
    {
     "data": {
      "text/plain": [
       "True"
      ]
     },
     "execution_count": 7,
     "metadata": {},
     "output_type": "execute_result"
    }
   ],
   "source": [
    "key=911\n",
    "idx=myhash.hashFun(key)\n",
    "print(idx)\n",
    "myhash.search(idx,key)"
   ]
  },
  {
   "cell_type": "code",
   "execution_count": 8,
   "metadata": {},
   "outputs": [
    {
     "name": "stdout",
     "output_type": "stream",
     "text": [
      "1\n"
     ]
    },
    {
     "data": {
      "text/plain": [
       "[[644, 98, 497, 847],\n",
       " [183, 820, 995, 841],\n",
       " [947, 37, 268, 716, 569, 415],\n",
       " [164, 556],\n",
       " [935],\n",
       " [383, 313, 943],\n",
       " [188, 524, 531, 125]]"
      ]
     },
     "execution_count": 8,
     "metadata": {},
     "output_type": "execute_result"
    }
   ],
   "source": [
    "key=911\n",
    "idx=myhash.hashFun(key)\n",
    "print(idx)\n",
    "myhash.delete(idx, key)\n",
    "myhash.mylist"
   ]
  },
  {
   "cell_type": "code",
   "execution_count": null,
   "metadata": {},
   "outputs": [],
   "source": [
    "# useful info on list operations:\n",
    "\n",
    "# When using the key/element\n",
    "\n",
    "# mylist=[1,2,4,5,6]\n",
    "# key=4\n",
    "\n",
    "# search: return key in mylist\n",
    "#   we can use mylist.index(key) to get index of key 4\n",
    "    \n",
    "# insert: insert at end / appending:  mylist.append(key)\n",
    "    \n",
    "# delete: mylist.remove(key)\n",
    "    \n",
    "\n",
    "\n",
    "# When using the index value:\n",
    "# mylist=[1,2,4,5,6]\n",
    "# key=100, idx=2\n",
    "\n",
    "# search: mylist[idx]\n",
    "    \n",
    "# insert: insert at a specific index (insert key at 2nd index): mylist.insert(idx,key)\n",
    "# So, the updated list will be: 1,2,100,4,5,6\n",
    "    \n",
    "# delete: mylist.pop(idx)\n",
    "# so, the list now is 1,2,5,6"
   ]
  }
 ],
 "metadata": {
  "kernelspec": {
   "display_name": "python38",
   "language": "python",
   "name": "python3"
  },
  "language_info": {
   "codemirror_mode": {
    "name": "ipython",
    "version": 3
   },
   "file_extension": ".py",
   "mimetype": "text/x-python",
   "name": "python",
   "nbconvert_exporter": "python",
   "pygments_lexer": "ipython3",
   "version": "3.8.18"
  }
 },
 "nbformat": 4,
 "nbformat_minor": 2
}

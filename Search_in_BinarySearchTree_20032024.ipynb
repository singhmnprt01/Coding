{
 "cells": [
  {
   "cell_type": "code",
   "execution_count": 2,
   "metadata": {},
   "outputs": [],
   "source": [
    "class Node:\n",
    "    def __init__(self, item):\n",
    "        self.left=None\n",
    "        self.right=None\n",
    "        self.item=item\n",
    "\n",
    "# Driver code:\n",
    "root = Node(40)\n",
    "root.left = Node(20)\n",
    "root.left.left=Node(8)\n",
    "root.left.right=Node(30)\n",
    "\n",
    "root.right=Node(80)\n",
    "root.right.left=Node(60)\n",
    "root.right.right=Node(100)\n",
    "root.right.right.right=Node(120)\n",
    "\n"
   ]
  },
  {
   "cell_type": "code",
   "execution_count": 3,
   "metadata": {},
   "outputs": [
    {
     "data": {
      "text/plain": [
       "1"
      ]
     },
     "execution_count": 3,
     "metadata": {},
     "output_type": "execute_result"
    }
   ],
   "source": [
    "# # Way 1: Recursion\n",
    "# Time complexity os o(h) ; h is height of tree\n",
    "# Space: O(h)\n",
    "def search_BST(root, item):\n",
    "    if root==None:\n",
    "        return -1 \n",
    "    elif root.item==item:\n",
    "        return 1\n",
    "    elif item < root.item:\n",
    "        return search_BST(root.left, item)\n",
    "    else:\n",
    "        return search_BST(root.right, item)\n",
    "\n",
    "search_BST(root,120)"
   ]
  },
  {
   "cell_type": "code",
   "execution_count": 6,
   "metadata": {},
   "outputs": [
    {
     "data": {
      "text/plain": [
       "1"
      ]
     },
     "execution_count": 6,
     "metadata": {},
     "output_type": "execute_result"
    }
   ],
   "source": [
    "# # iterative implementation which takes O(1) space complexity\n",
    "\n",
    "def search_BST2(root, item):\n",
    "    while root!=None:\n",
    "        if root.item==item:\n",
    "            return 1\n",
    "        elif item < root.item:\n",
    "            root=root.left\n",
    "        else:\n",
    "            root=root.right\n",
    "    return -1 \n",
    "    \n",
    "search_BST2(root,120)"
   ]
  }
 ],
 "metadata": {
  "kernelspec": {
   "display_name": "python38",
   "language": "python",
   "name": "python3"
  },
  "language_info": {
   "codemirror_mode": {
    "name": "ipython",
    "version": 3
   },
   "file_extension": ".py",
   "mimetype": "text/x-python",
   "name": "python",
   "nbconvert_exporter": "python",
   "pygments_lexer": "ipython3",
   "version": "3.8.18"
  }
 },
 "nbformat": 4,
 "nbformat_minor": 2
}

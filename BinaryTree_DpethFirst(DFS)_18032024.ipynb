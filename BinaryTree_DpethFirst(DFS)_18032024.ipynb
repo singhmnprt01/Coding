{
 "cells": [
  {
   "cell_type": "code",
   "execution_count": 1,
   "metadata": {},
   "outputs": [],
   "source": [
    "# Binary Tree (using doubly Linked List) ->> Linked Representation of Binary Tree"
   ]
  },
  {
   "cell_type": "code",
   "execution_count": null,
   "metadata": {},
   "outputs": [],
   "source": [
    "# Types of traversals:\n",
    "# 1. BFS -> Breadth First \n",
    "# 2. DFS -> Depth First\n",
    "\n",
    "\n",
    "# Under DFS, we have 3 ways to traverse the tree:\n",
    "# 1. Inorder:   Left Root Right\n",
    "# 2. Preorder:  Root Left Right\n",
    "# 3. Postorder: Left Right Root"
   ]
  },
  {
   "cell_type": "code",
   "execution_count": 2,
   "metadata": {},
   "outputs": [],
   "source": [
    "class Node:\n",
    "    def __init__(self, item):\n",
    "        self.left =None\n",
    "        self.right=None\n",
    "        self.item=item\n",
    "        \n",
    "# Time complexity: theta(n): n number of items\n",
    "# Space complexity: theta(h) ; h is height of tree\n",
    "# Inorder traversal function:\n",
    "def inorder(root):\n",
    "    if root!=None:\n",
    "        inorder(root.left)\n",
    "        print(root.item)\n",
    "        inorder(root.right)\n",
    "\n",
    "\n",
    "# Time complexity: theta(n): n number of items\n",
    "# Space complexity: theta(h) ; h is height of tree\n",
    "# Preorder traversal function:        \n",
    "def preorder(root):\n",
    "    if root!=None:\n",
    "        print(root.item)\n",
    "        preorder(root.left)\n",
    "        preorder(root.right)\n",
    "\n",
    "# Time complexity: theta(n): n number of items\n",
    "# Space complexity: theta(h) ; h is height of tree\n",
    "# Preorder traversal function:    \n",
    "# Postorder traversal is not tail recursive.\n",
    "# Tail-recursive functions take less time if the compiler is otpimized for tail recursion.\n",
    "# So, ideally, we should use inorder / preorder over postorder \n",
    "def postorder(root):\n",
    "    if root!=None:\n",
    "        postorder(root.left)\n",
    "        postorder(root.right)\n",
    "        print(root.item)\n",
    "                \n",
    "#Driver Code to add nodes to trees\n",
    "root=Node(10)\n",
    "\n",
    "root.left = Node(20)\n",
    "root.left.left=Node(15)\n",
    "\n",
    "root.right = Node(30)\n",
    "root.right.left = Node(40)\n",
    "root.right.right = Node(80)\n",
    "root.right.right.right = Node(50)"
   ]
  },
  {
   "attachments": {
    "image.png": {
     "image/png": "[encoded data removed]"
    }
   },
   "cell_type": "markdown",
   "metadata": {},
   "source": [
    "![image.png](attachment:image.png)"
   ]
  },
  {
   "cell_type": "code",
   "execution_count": 3,
   "metadata": {},
   "outputs": [
    {
     "name": "stdout",
     "output_type": "stream",
     "text": [
      "15\n",
      "20\n",
      "10\n",
      "40\n",
      "30\n",
      "80\n",
      "50\n"
     ]
    }
   ],
   "source": [
    "inorder(root)"
   ]
  },
  {
   "cell_type": "code",
   "execution_count": 4,
   "metadata": {},
   "outputs": [
    {
     "name": "stdout",
     "output_type": "stream",
     "text": [
      "10\n",
      "20\n",
      "15\n",
      "30\n",
      "40\n",
      "80\n",
      "50\n"
     ]
    }
   ],
   "source": [
    "preorder(root) "
   ]
  },
  {
   "cell_type": "code",
   "execution_count": 5,
   "metadata": {},
   "outputs": [
    {
     "name": "stdout",
     "output_type": "stream",
     "text": [
      "15\n",
      "20\n",
      "40\n",
      "50\n",
      "80\n",
      "30\n",
      "10\n"
     ]
    }
   ],
   "source": [
    "postorder(root)"
   ]
  },
  {
   "cell_type": "code",
   "execution_count": 6,
   "metadata": {},
   "outputs": [],
   "source": [
    "# How to find height of a tree ?\n",
    "\n",
    "leftcount, rightcount=0,0\n",
    "\n",
    "# Convention 1: number of edges\n",
    "def height1(root):\n",
    "    if root==None: ## This is base condition\n",
    "        return -1\n",
    "    else:\n",
    "        return max(height1(root.left), height1(root.right) ) + 1\n",
    "#or\n",
    "\n",
    "# Convention 2\n",
    "def height2(root):\n",
    "    if root==None:\n",
    "        return 0\n",
    "    else:\n",
    "        return max(height2(root.left), height2(root.right)) + 1 \n",
    "        "
   ]
  },
  {
   "cell_type": "code",
   "execution_count": 7,
   "metadata": {},
   "outputs": [
    {
     "data": {
      "text/plain": [
       "(3, 4)"
      ]
     },
     "execution_count": 7,
     "metadata": {},
     "output_type": "execute_result"
    }
   ],
   "source": [
    "height1(root), height2(root)"
   ]
  },
  {
   "cell_type": "code",
   "execution_count": 30,
   "metadata": {},
   "outputs": [],
   "source": [
    "# How to print Node at K distance\n",
    "k=2\n",
    "\n",
    "# Time complexity is O(n) ; n is K distance value\n",
    "# Space: O(h), h is height of tree\n",
    "def printkdistance(root, k):\n",
    "    if k==0 and root is not None: ## This is the base condition\n",
    "        print(root.item)\n",
    "    else:\n",
    "        if root.left is not None: ## This is second base condition\n",
    "            printkdistance(root.left, k-1)\n",
    "        if root.right is not None: ## This is second base condition\n",
    "            printkdistance(root.right, k-1)\n",
    "        # print(root.item)"
   ]
  },
  {
   "cell_type": "code",
   "execution_count": 33,
   "metadata": {},
   "outputs": [
    {
     "name": "stdout",
     "output_type": "stream",
     "text": [
      "15\n",
      "40\n",
      "80\n"
     ]
    }
   ],
   "source": [
    "printkdistance(root,2)"
   ]
  },
  {
   "cell_type": "code",
   "execution_count": null,
   "metadata": {},
   "outputs": [],
   "source": []
  }
 ],
 "metadata": {
  "kernelspec": {
   "display_name": "python38",
   "language": "python",
   "name": "python3"
  },
  "language_info": {
   "codemirror_mode": {
    "name": "ipython",
    "version": 3
   },
   "file_extension": ".py",
   "mimetype": "text/x-python",
   "name": "python",
   "nbconvert_exporter": "python",
   "pygments_lexer": "ipython3",
   "version": "3.8.18"
  }
 },
 "nbformat": 4,
 "nbformat_minor": 2
}

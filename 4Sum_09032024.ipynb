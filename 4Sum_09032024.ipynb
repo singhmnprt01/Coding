{
 "cells": [
  {
   "cell_type": "code",
   "execution_count": 1,
   "metadata": {},
   "outputs": [],
   "source": [
    "# https://leetcode.com/problems/4sum/description/\n",
    "# 4 sum"
   ]
  },
  {
   "cell_type": "code",
   "execution_count": 9,
   "metadata": {},
   "outputs": [],
   "source": [
    "nums=[1,0,-1,0,-2,2]\n",
    "target=0\n",
    "ans=[]"
   ]
  },
  {
   "cell_type": "code",
   "execution_count": 10,
   "metadata": {},
   "outputs": [],
   "source": [
    "nums.sort()"
   ]
  },
  {
   "cell_type": "code",
   "execution_count": 11,
   "metadata": {},
   "outputs": [],
   "source": [
    "for i in range(0, len(nums)):\n",
    "    if i!=0 and nums[i]==nums[i-1]:\n",
    "        continue;\n",
    "    for j in range(i+1, len(nums)):\n",
    "        if j!=0 and nums[j]==nums[j-1]:\n",
    "            continue;\n",
    "        k=j+1\n",
    "        l=len(nums)-1\n",
    "        \n",
    "        while k<l:\n",
    "            sum_=nums[i]+nums[j]+nums[k]+nums[l]\n",
    "            if sum_==target:\n",
    "                    ans.append([nums[i],nums[j],nums[k],nums[l]])\n",
    "                    k+=1\n",
    "                    l-=1\n",
    "                    while k<l and nums[k]==nums[k-1]:\n",
    "                        k+=1\n",
    "                    while k<l and nums[l]==nums[l+1]:\n",
    "                        l-=1\n",
    "            elif  sum_<0:\n",
    "                k+=1\n",
    "            else:\n",
    "                l-=1\n",
    "            "
   ]
  },
  {
   "cell_type": "code",
   "execution_count": 12,
   "metadata": {},
   "outputs": [
    {
     "data": {
      "text/plain": [
       "[[-2, -1, 1, 2], [-2, 0, 0, 2], [-1, 0, 0, 1]]"
      ]
     },
     "execution_count": 12,
     "metadata": {},
     "output_type": "execute_result"
    }
   ],
   "source": [
    "ans"
   ]
  }
 ],
 "metadata": {
  "kernelspec": {
   "display_name": "python38",
   "language": "python",
   "name": "python3"
  },
  "language_info": {
   "codemirror_mode": {
    "name": "ipython",
    "version": 3
   },
   "file_extension": ".py",
   "mimetype": "text/x-python",
   "name": "python",
   "nbconvert_exporter": "python",
   "pygments_lexer": "ipython3",
   "version": "3.8.18"
  }
 },
 "nbformat": 4,
 "nbformat_minor": 2
}

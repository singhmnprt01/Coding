{
 "cells": [
  {
   "cell_type": "code",
   "execution_count": null,
   "metadata": {},
   "outputs": [],
   "source": [
    "# https://leetcode.com/problems/next-greater-element-iii/\n",
    "\n",
    "# Next Greater Element 3\n",
    "\n",
    "# Talk me through a full stack Twitter implementation.\n",
    "# Given a positive integer X, find the next greater integer with same set of digits in X. For example, given 12345, return 12354; given 12354, return 12435; given 12435, return 12453...\n"
   ]
  },
  {
   "cell_type": "code",
   "execution_count": 1,
   "metadata": {},
   "outputs": [],
   "source": [
    "# n= 12345\n",
    "# Answer = 12354"
   ]
  },
  {
   "cell_type": "code",
   "execution_count": 8,
   "metadata": {},
   "outputs": [],
   "source": [
    "n=12345\n",
    "from itertools import permutations"
   ]
  },
  {
   "cell_type": "code",
   "execution_count": 14,
   "metadata": {},
   "outputs": [],
   "source": [
    "# for p in permutations(list(str(n))):\n",
    "#     print(int(\"\".join(p)))"
   ]
  },
  {
   "cell_type": "code",
   "execution_count": 12,
   "metadata": {},
   "outputs": [],
   "source": [
    "n=123762"
   ]
  },
  {
   "cell_type": "code",
   "execution_count": 13,
   "metadata": {},
   "outputs": [
    {
     "name": "stdout",
     "output_type": "stream",
     "text": [
      "126237\n"
     ]
    }
   ],
   "source": [
    "n_str = str(n)\n",
    "\n",
    "if n<=9:\n",
    "    print( -1) \n",
    "\n",
    "elif n<=99:\n",
    "    if int(n_str[1]+n_str[0])>n:\n",
    "        print(int(n_str[1]+n_str[0]))\n",
    "    else:\n",
    "        print(-1)\n",
    "        \n",
    "else:\n",
    "    for i in range(len(n_str)-2,-1,-1):\n",
    "        # This if checks: for which value i we found that the number after it(i+1th) is greater than ith number\n",
    "        # In our case it's 3<7 -> this means that this where we can stop and use the numbers 7,6,2 to get our answer\n",
    "        if n_str[i]<n_str[i+1]:\n",
    "            \n",
    "            # This loop runs for 2,6,7 to check which first number among 2,6,7 is greater than 3 (our ith number)\n",
    "            for j in range(len(n_str)-1,i,-1):\n",
    "                \n",
    "                # Now, firstly it checks 2>3 --> WRONG\n",
    "                # The, 6>3 --> yes, so, enters the if condition\n",
    "                if n_str[j]>n_str[i]:\n",
    "                    n_str_list = list(n_str)\n",
    "                    \n",
    "                    # Now, this swaps 6 and 3\n",
    "                    n_str_list[j], n_str_list[i]=n_str_list[i], n_str_list[j]\n",
    "                    # Now, here, our number is 126732, But we know that there could be other numbers in 126... range which\n",
    "                    # could be less than 126732 but greater than 123762.\n",
    "                    # So, we do below step to sort the digits after 6, which are 7 , 3 and 2 in asencding order.\n",
    "                    # Basically putting them reverse order as we already know that 732 is the highest, so revers is lowers\n",
    "                    # which is 237\n",
    "                    n_str_list[i+1:len(n_str_list)] = n_str_list[i+1:len(n_str_list)][::-1]\n",
    "                    result_str = ''.join(n_str_list)\n",
    "                    print(result_str)\n",
    "                    break;\n",
    "            break;\n",
    "                    \n",
    "                \n",
    "            "
   ]
  },
  {
   "cell_type": "code",
   "execution_count": null,
   "metadata": {},
   "outputs": [],
   "source": [
    "12453\n",
    "12435"
   ]
  }
 ],
 "metadata": {
  "kernelspec": {
   "display_name": "python38",
   "language": "python",
   "name": "python3"
  },
  "language_info": {
   "codemirror_mode": {
    "name": "ipython",
    "version": 3
   },
   "file_extension": ".py",
   "mimetype": "text/x-python",
   "name": "python",
   "nbconvert_exporter": "python",
   "pygments_lexer": "ipython3",
   "version": "3.8.18"
  }
 },
 "nbformat": 4,
 "nbformat_minor": 2
}

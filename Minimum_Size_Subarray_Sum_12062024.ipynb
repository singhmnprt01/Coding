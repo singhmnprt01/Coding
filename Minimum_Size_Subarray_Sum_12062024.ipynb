{
 "cells": [
  {
   "cell_type": "code",
   "execution_count": 1,
   "metadata": {},
   "outputs": [],
   "source": [
    "# https://leetcode.com/problems/minimum-size-subarray-sum/?envType=study-plan-v2&envId=top-interview-150"
   ]
  },
  {
   "cell_type": "code",
   "execution_count": 2,
   "metadata": {},
   "outputs": [],
   "source": [
    "# Input: target = 7, nums = [2,3,1,2,4,3]"
   ]
  },
  {
   "cell_type": "code",
   "execution_count": 5,
   "metadata": {},
   "outputs": [],
   "source": [
    "target = 7\n",
    "nums=[2,3,1,2,4,3]\n",
    "\n",
    "def min_len_fn(nums, target):\n",
    "    if sum(nums)< target:\n",
    "        return 0\n",
    "    \n",
    "    \n",
    "    sub_arr_sum=0\n",
    "    start=0\n",
    "    min_len = len(nums)\n",
    "    \n",
    "    for last in range(len(nums)):\n",
    "        sub_arr_sum+=nums[last]\n",
    "        \n",
    "        while sub_arr_sum>=target:\n",
    "            min_len=min(min_len, last-start+1)\n",
    "            sub_arr_sum = sub_arr_sum-nums[start]\n",
    "            start+=1\n",
    "    return min_len\n",
    "    \n"
   ]
  },
  {
   "cell_type": "code",
   "execution_count": 6,
   "metadata": {},
   "outputs": [
    {
     "data": {
      "text/plain": [
       "2"
      ]
     },
     "execution_count": 6,
     "metadata": {},
     "output_type": "execute_result"
    }
   ],
   "source": [
    "min_len_fn(nums, target)"
   ]
  }
 ],
 "metadata": {
  "kernelspec": {
   "display_name": "python38",
   "language": "python",
   "name": "python3"
  },
  "language_info": {
   "codemirror_mode": {
    "name": "ipython",
    "version": 3
   },
   "file_extension": ".py",
   "mimetype": "text/x-python",
   "name": "python",
   "nbconvert_exporter": "python",
   "pygments_lexer": "ipython3",
   "version": "3.8.18"
  }
 },
 "nbformat": 4,
 "nbformat_minor": 2
}

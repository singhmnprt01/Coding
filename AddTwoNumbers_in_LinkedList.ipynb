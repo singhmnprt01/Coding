{
 "cells": [
  {
   "cell_type": "code",
   "execution_count": 43,
   "metadata": {},
   "outputs": [],
   "source": [
    "class Node:\n",
    "    def __init__(self, item):\n",
    "        self.item=item\n",
    "        self.next=None\n",
    "        \n",
    "\n",
    "class LinkedList:\n",
    "    def __init__(self):\n",
    "        self.head=None\n",
    "        self.tail=None\n",
    "        \n",
    "    def add_next(self, item):\n",
    "        newnode = Node(item)\n",
    "        if self.head==None and self.tail==None:\n",
    "            self.head=newnode\n",
    "            self.tail=newnode\n",
    "        else:\n",
    "            self.tail.next=newnode\n",
    "            self.tail = newnode\n",
    "    \n",
    "    def __reverse_num(self,num):\n",
    "        newnum=0\n",
    "        while num:\n",
    "            newnum = newnum*10 + num%10\n",
    "            num=num//10\n",
    "        return newnum\n",
    "    \n",
    "    def display(self, start):\n",
    "        num=0\n",
    "        while start:\n",
    "            # print (f\" {start.item}\")\n",
    "            num=num*10 + start.item\n",
    "            start=start.next\n",
    "        return (self.__reverse_num(num))\n",
    "\n",
    "            \n",
    "                \n",
    "        "
   ]
  },
  {
   "cell_type": "code",
   "execution_count": 52,
   "metadata": {},
   "outputs": [],
   "source": [
    "# how to access private memebrs of a class:\n",
    "# obj = MyClass()\n",
    "# obj.public_method()  # Accessing public method\n",
    "# # obj.__private_method()  # This would raise an AttributeError\n",
    "\n",
    "# # Using name mangling to access the private method\n",
    "# obj._MyClass__private_method()\n",
    "\n",
    "\n",
    "# LinkedList1._LinkedList__reverse_num(123)"
   ]
  },
  {
   "cell_type": "code",
   "execution_count": 45,
   "metadata": {},
   "outputs": [],
   "source": [
    "LinkedList1 = LinkedList()\n",
    "LinkedList1.add_next(2)\n",
    "LinkedList1.add_next(4)\n",
    "LinkedList1.add_next(3)"
   ]
  },
  {
   "cell_type": "code",
   "execution_count": 46,
   "metadata": {},
   "outputs": [
    {
     "name": "stdout",
     "output_type": "stream",
     "text": [
      "2\n",
      "4\n",
      "3\n"
     ]
    }
   ],
   "source": [
    "num=0\n",
    "start= LinkedList1.head\n",
    "while start:\n",
    "    print(start.item)\n",
    "    num=num*10 + start.item\n",
    "    start=start.next"
   ]
  },
  {
   "cell_type": "code",
   "execution_count": 47,
   "metadata": {},
   "outputs": [
    {
     "data": {
      "text/plain": [
       "342"
      ]
     },
     "execution_count": 47,
     "metadata": {},
     "output_type": "execute_result"
    }
   ],
   "source": [
    "LinkedList1.display(LinkedList1.head)"
   ]
  },
  {
   "cell_type": "code",
   "execution_count": 60,
   "metadata": {},
   "outputs": [],
   "source": [
    "LinkedList2 = LinkedList()\n",
    "LinkedList2.add_next(5)\n",
    "LinkedList2.add_next(3)\n",
    "# LinkedList2.add_next(4)"
   ]
  },
  {
   "cell_type": "code",
   "execution_count": 61,
   "metadata": {},
   "outputs": [
    {
     "data": {
      "text/plain": [
       "35"
      ]
     },
     "execution_count": 61,
     "metadata": {},
     "output_type": "execute_result"
    }
   ],
   "source": [
    "LinkedList2.display(LinkedList2.head)"
   ]
  },
  {
   "cell_type": "code",
   "execution_count": 62,
   "metadata": {},
   "outputs": [],
   "source": [
    "# We need to add LinkedList1 and LinkedList2"
   ]
  },
  {
   "cell_type": "code",
   "execution_count": 63,
   "metadata": {},
   "outputs": [
    {
     "name": "stdout",
     "output_type": "stream",
     "text": [
      "377\n"
     ]
    }
   ],
   "source": [
    "Final_num = LinkedList1.display(LinkedList1.head) + LinkedList2.display(LinkedList2.head)\n",
    "print(Final_num)"
   ]
  },
  {
   "cell_type": "code",
   "execution_count": 64,
   "metadata": {},
   "outputs": [],
   "source": [
    "LinkedList_sum = LinkedList()\n",
    "while Final_num:\n",
    "    fn = Final_num%10\n",
    "    LinkedList_sum.add_next(fn)\n",
    "    Final_num=Final_num//10\n",
    "    "
   ]
  },
  {
   "cell_type": "code",
   "execution_count": 65,
   "metadata": {},
   "outputs": [
    {
     "data": {
      "text/plain": [
       "377"
      ]
     },
     "execution_count": 65,
     "metadata": {},
     "output_type": "execute_result"
    }
   ],
   "source": [
    "LinkedList_sum.display(LinkedList_sum.head)"
   ]
  },
  {
   "cell_type": "code",
   "execution_count": 66,
   "metadata": {},
   "outputs": [
    {
     "name": "stdout",
     "output_type": "stream",
     "text": [
      "7\n",
      "7\n",
      "3\n"
     ]
    }
   ],
   "source": [
    "sum_start=LinkedList_sum.head\n",
    "while sum_start:\n",
    "    print(sum_start.item)\n",
    "    sum_start=sum_start.next"
   ]
  },
  {
   "cell_type": "code",
   "execution_count": null,
   "metadata": {},
   "outputs": [],
   "source": []
  }
 ],
 "metadata": {
  "kernelspec": {
   "display_name": "python38",
   "language": "python",
   "name": "python3"
  },
  "language_info": {
   "codemirror_mode": {
    "name": "ipython",
    "version": 3
   },
   "file_extension": ".py",
   "mimetype": "text/x-python",
   "name": "python",
   "nbconvert_exporter": "python",
   "pygments_lexer": "ipython3",
   "version": "3.8.18"
  }
 },
 "nbformat": 4,
 "nbformat_minor": 2
}

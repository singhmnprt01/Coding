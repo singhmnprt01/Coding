{
 "cells": [
  {
   "cell_type": "code",
   "execution_count": 87,
   "metadata": {},
   "outputs": [],
   "source": [
    "# https://leetcode.com/problems/populating-next-right-pointers-in-each-node-ii/description/?envType=study-plan-v2&envId=top-interview-150\n",
    "\n",
    "# Leetcode 117: Populating Next Right Pointer in Each Node 2"
   ]
  },
  {
   "cell_type": "code",
   "execution_count": 70,
   "metadata": {},
   "outputs": [],
   "source": [
    "class Node:\n",
    "    def __init__(self, item):\n",
    "        self.left=None\n",
    "        self.right=None\n",
    "        self.item=item\n",
    "        self.next=None\n",
    "    \n",
    "root=Node(1)\n",
    "root.left=Node(2)\n",
    "root.left.left=Node(4)\n",
    "root.left.right=Node(5)\n",
    "\n",
    "root.right=Node(3)\n",
    "root.right.right=Node(7)"
   ]
  },
  {
   "cell_type": "code",
   "execution_count": 83,
   "metadata": {},
   "outputs": [],
   "source": [
    "def set_next_pointer(root):\n",
    "    mylist=[]\n",
    "    mylist.append(root)\n",
    "    tail = root\n",
    "\n",
    "    while len(mylist)>0:\n",
    "        mynode = mylist.pop(0)\n",
    "        if mynode.left:\n",
    "            mylist.append(mynode.left)\n",
    "        if mynode.right:\n",
    "            mylist.append(mynode.right)\n",
    "            \n",
    "        if mynode==tail:\n",
    "            mynode.next=None\n",
    "            tail= mylist[-1] if len(mylist)>0 else None\n",
    "        else:\n",
    "            mynode.next=mylist[0]\n",
    "\n",
    "\n",
    "    "
   ]
  },
  {
   "cell_type": "code",
   "execution_count": 85,
   "metadata": {},
   "outputs": [],
   "source": [
    "\n",
    "def print_next_pointer(root):\n",
    "    myqueue=[]\n",
    "    myqueue.append(root)\n",
    "    leftchild=root\n",
    "    rightchild=root\n",
    "\n",
    "    while myqueue:\n",
    "        mynode = myqueue.pop(0)\n",
    "        child = mynode\n",
    "        if child:\n",
    "            while child:\n",
    "                print(child.item)\n",
    "                child=child.next\n",
    "            if child==None:\n",
    "                print(\"#\")\n",
    "            if mynode:\n",
    "                myqueue.append(mynode.left)\n",
    "        else:\n",
    "            break;\n",
    "    "
   ]
  },
  {
   "cell_type": "code",
   "execution_count": 86,
   "metadata": {},
   "outputs": [
    {
     "name": "stdout",
     "output_type": "stream",
     "text": [
      "1\n",
      "#\n",
      "2\n",
      "3\n",
      "#\n",
      "4\n",
      "5\n",
      "7\n",
      "#\n"
     ]
    }
   ],
   "source": [
    "set_next_pointer(root)\n",
    "print_next_pointer(root)"
   ]
  },
  {
   "cell_type": "code",
   "execution_count": null,
   "metadata": {},
   "outputs": [],
   "source": []
  }
 ],
 "metadata": {
  "kernelspec": {
   "display_name": "python38",
   "language": "python",
   "name": "python3"
  },
  "language_info": {
   "codemirror_mode": {
    "name": "ipython",
    "version": 3
   },
   "file_extension": ".py",
   "mimetype": "text/x-python",
   "name": "python",
   "nbconvert_exporter": "python",
   "pygments_lexer": "ipython3",
   "version": "3.8.18"
  }
 },
 "nbformat": 4,
 "nbformat_minor": 2
}

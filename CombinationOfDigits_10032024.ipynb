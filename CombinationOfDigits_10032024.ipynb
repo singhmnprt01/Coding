{
 "cells": [
  {
   "cell_type": "code",
   "execution_count": 26,
   "metadata": {},
   "outputs": [],
   "source": [
    "from itertools import permutations"
   ]
  },
  {
   "cell_type": "code",
   "execution_count": 35,
   "metadata": {},
   "outputs": [
    {
     "name": "stdout",
     "output_type": "stream",
     "text": [
      "The three numbers that multiply to 4762800 are: (225, 112, 189)\n"
     ]
    }
   ],
   "source": [
    "\n",
    "\n",
    "def find_numbers(digits, target):\n",
    "    # Generate all permutations of the given digits\n",
    "    perms = permutations(digits)\n",
    "    \n",
    "    # Iterate over all permutations\n",
    "    for perm in perms:\n",
    "        # Divide the permutation into three parts and convert to integers\n",
    "        num1 = int(''.join(map(str, perm[:3])))\n",
    "        num2 = int(''.join(map(str, perm[3:6])))\n",
    "        num3 = int(''.join(map(str, perm[6:])))\n",
    "        \n",
    "        # Check if the product of the three numbers is equal to the target\n",
    "        if num1 * num2 * num3 == target:\n",
    "            return num1, num2, num3\n",
    "    \n",
    "    # Return None if no combination is found\n",
    "    return None\n",
    "\n",
    "# Given digits and target product\n",
    "digits = [9, 2, 5, 2, 1, 1, 8, 2, 1]\n",
    "target_product = 4762800\n",
    "\n",
    "# Find the three numbers\n",
    "result = find_numbers(digits, target_product)\n",
    "\n",
    "# Print the result\n",
    "if result:\n",
    "    print(f\"The three numbers that multiply to {target_product} are: {result}\")\n",
    "else:\n",
    "    print(\"No combination of numbers found that multiply to the target product.\")\n"
   ]
  },
  {
   "cell_type": "code",
   "execution_count": null,
   "metadata": {},
   "outputs": [],
   "source": []
  }
 ],
 "metadata": {
  "kernelspec": {
   "display_name": "python38",
   "language": "python",
   "name": "python3"
  },
  "language_info": {
   "codemirror_mode": {
    "name": "ipython",
    "version": 3
   },
   "file_extension": ".py",
   "mimetype": "text/x-python",
   "name": "python",
   "nbconvert_exporter": "python",
   "pygments_lexer": "ipython3",
   "version": "3.8.18"
  }
 },
 "nbformat": 4,
 "nbformat_minor": 2
}

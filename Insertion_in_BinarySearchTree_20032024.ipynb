{
 "cells": [
  {
   "cell_type": "code",
   "execution_count": 46,
   "metadata": {},
   "outputs": [],
   "source": [
    "# Insertion in BST\n",
    "\n",
    "\n",
    "class Node:\n",
    "    def __init__(self, item):\n",
    "        self.left=None\n",
    "        self.right=None\n",
    "        self.item=item\n",
    "    \n",
    "    \n",
    "root = Node(10)\n",
    "\n",
    "root.left=Node(5)\n",
    "root.left.right=Node(7)\n",
    "\n",
    "root.right=Node(15)\n",
    "root.right.left=Node(12)\n",
    "root.right.right=Node(18)"
   ]
  },
  {
   "cell_type": "code",
   "execution_count": 36,
   "metadata": {},
   "outputs": [],
   "source": [
    "# Recursive solution\n",
    "def insert_BST(root, item):\n",
    "    if root==None:\n",
    "        return Node(item)\n",
    "    elif root.item==item:\n",
    "        return root\n",
    "    elif item < root.item:\n",
    "        root.left=insert_BST(root.left, item)\n",
    "    else:\n",
    "        root.right=insert_BST(root.right, item)\n",
    "    return root    "
   ]
  },
  {
   "cell_type": "code",
   "execution_count": 37,
   "metadata": {},
   "outputs": [],
   "source": [
    "myroot = insert_BST(root,20)"
   ]
  },
  {
   "cell_type": "code",
   "execution_count": 38,
   "metadata": {},
   "outputs": [
    {
     "data": {
      "text/plain": [
       "(10, 20)"
      ]
     },
     "execution_count": 38,
     "metadata": {},
     "output_type": "execute_result"
    }
   ],
   "source": [
    "myroot.right.right.right.item"
   ]
  },
  {
   "cell_type": "code",
   "execution_count": 39,
   "metadata": {},
   "outputs": [
    {
     "data": {
      "text/plain": [
       "10"
      ]
     },
     "execution_count": 39,
     "metadata": {},
     "output_type": "execute_result"
    }
   ],
   "source": [
    "myroot = insert_BST(root,20)\n",
    "myroot.item"
   ]
  },
  {
   "cell_type": "code",
   "execution_count": null,
   "metadata": {},
   "outputs": [],
   "source": []
  },
  {
   "cell_type": "code",
   "execution_count": 52,
   "metadata": {},
   "outputs": [],
   "source": [
    "# Iterative solution\n",
    "def insert_BST2(root, item):\n",
    "    root_prev = None\n",
    "    current = root\n",
    "    while current!=None:\n",
    "        print(f\"root value is {root}\")\n",
    "        root_prev=current\n",
    "        if current.item==item:\n",
    "            print(f\"Node can't be inserted as {item} already exist\")\n",
    "            return root\n",
    "        \n",
    "        elif item < current.item:\n",
    "            print(f\"{item} is smaller than {root.item}\")\n",
    "            current=current.left\n",
    "        else:\n",
    "            print(f\"{item} is bigger than {root.item}\")\n",
    "            current=current.right\n",
    "            # print(root)\n",
    "    \n",
    "    # This condition is when the tree is empty\n",
    "    if  root_prev==None:\n",
    "            return Node(item)\n",
    "    if item<root_prev.item:\n",
    "            root_prev.left=Node(item)\n",
    "            print(f\"Node Inserted with value {item} as left child of {root_prev.item}\")\n",
    "    else:\n",
    "            root_prev.right=Node(item)\n",
    "            print(f\"Node Inserted with value {item} as right child of {root_prev.item}\")\n",
    "    \n",
    "    return root"
   ]
  },
  {
   "cell_type": "code",
   "execution_count": 53,
   "metadata": {},
   "outputs": [
    {
     "name": "stdout",
     "output_type": "stream",
     "text": [
      "root value is <__main__.Node object at 0x0000028A68F6BDC0>\n",
      "20 is bigger than 10\n",
      "root value is <__main__.Node object at 0x0000028A68F6BDC0>\n",
      "20 is bigger than 10\n",
      "root value is <__main__.Node object at 0x0000028A68F6BDC0>\n",
      "20 is bigger than 10\n",
      "root value is <__main__.Node object at 0x0000028A68F6BDC0>\n",
      "Node can't be inserted as 20 already exist\n"
     ]
    }
   ],
   "source": [
    "myroot = insert_BST2(root,20)"
   ]
  },
  {
   "cell_type": "code",
   "execution_count": 54,
   "metadata": {},
   "outputs": [
    {
     "data": {
      "text/plain": [
       "10"
      ]
     },
     "execution_count": 54,
     "metadata": {},
     "output_type": "execute_result"
    }
   ],
   "source": [
    "myroot.item"
   ]
  },
  {
   "cell_type": "code",
   "execution_count": 55,
   "metadata": {},
   "outputs": [],
   "source": [
    "myroot= insert_BST2(None,20)"
   ]
  },
  {
   "cell_type": "code",
   "execution_count": 56,
   "metadata": {},
   "outputs": [
    {
     "data": {
      "text/plain": [
       "20"
      ]
     },
     "execution_count": 56,
     "metadata": {},
     "output_type": "execute_result"
    }
   ],
   "source": [
    "myroot.item #new tree created"
   ]
  },
  {
   "cell_type": "code",
   "execution_count": 57,
   "metadata": {},
   "outputs": [
    {
     "name": "stdout",
     "output_type": "stream",
     "text": [
      "root value is <__main__.Node object at 0x0000028A690E5A30>\n",
      "45 is bigger than 20\n",
      "Node Inserted with value 45 as right child of 20\n"
     ]
    }
   ],
   "source": [
    "myroot= insert_BST2(myroot,45)"
   ]
  },
  {
   "cell_type": "code",
   "execution_count": 60,
   "metadata": {},
   "outputs": [
    {
     "data": {
      "text/plain": [
       "(20, None, 45)"
      ]
     },
     "execution_count": 60,
     "metadata": {},
     "output_type": "execute_result"
    }
   ],
   "source": [
    "myroot.item,myroot.left ,myroot.right.item #new node inserted to the right of newly creatd tree with root node of value 20"
   ]
  },
  {
   "cell_type": "code",
   "execution_count": 61,
   "metadata": {},
   "outputs": [
    {
     "name": "stdout",
     "output_type": "stream",
     "text": [
      "root value is <__main__.Node object at 0x0000028A68F6BDC0>\n",
      "Node can't be inserted as 10 already exist\n"
     ]
    },
    {
     "data": {
      "text/plain": [
       "<__main__.Node at 0x28a68f6bdc0>"
      ]
     },
     "execution_count": 61,
     "metadata": {},
     "output_type": "execute_result"
    }
   ],
   "source": [
    "insert_BST2(root,10)"
   ]
  },
  {
   "cell_type": "code",
   "execution_count": 67,
   "metadata": {},
   "outputs": [
    {
     "name": "stdout",
     "output_type": "stream",
     "text": [
      "root value is <__main__.Node object at 0x0000028A68F6BDC0>\n",
      "1 is smaller than 10\n",
      "root value is <__main__.Node object at 0x0000028A68F6BDC0>\n",
      "1 is smaller than 10\n",
      "root value is <__main__.Node object at 0x0000028A68F6BDC0>\n",
      "1 is smaller than 10\n",
      "Node Inserted with value 1 as left child of 3\n"
     ]
    }
   ],
   "source": [
    "myroot = insert_BST2(root,1)"
   ]
  },
  {
   "cell_type": "code",
   "execution_count": 66,
   "metadata": {},
   "outputs": [
    {
     "data": {
      "text/plain": [
       "3"
      ]
     },
     "execution_count": 66,
     "metadata": {},
     "output_type": "execute_result"
    }
   ],
   "source": [
    "myroot.left.left.item"
   ]
  },
  {
   "cell_type": "code",
   "execution_count": null,
   "metadata": {},
   "outputs": [],
   "source": [
    "myroot = insert_BST"
   ]
  }
 ],
 "metadata": {
  "kernelspec": {
   "display_name": "python38",
   "language": "python",
   "name": "python3"
  },
  "language_info": {
   "codemirror_mode": {
    "name": "ipython",
    "version": 3
   },
   "file_extension": ".py",
   "mimetype": "text/x-python",
   "name": "python",
   "nbconvert_exporter": "python",
   "pygments_lexer": "ipython3",
   "version": "3.8.18"
  }
 },
 "nbformat": 4,
 "nbformat_minor": 2
}

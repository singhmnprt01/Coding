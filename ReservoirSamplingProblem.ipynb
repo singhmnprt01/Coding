{
 "cells": [
  {
   "cell_type": "code",
   "execution_count": 6,
   "metadata": {},
   "outputs": [
    {
     "name": "stdout",
     "output_type": "stream",
     "text": [
      "9\n",
      "6\n",
      "3\n",
      "1\n",
      "8\n",
      "6\n",
      "4\n",
      "8\n",
      "8\n",
      "9\n",
      "6\n",
      "9\n",
      "0\n",
      "4\n",
      "6\n",
      "5\n",
      "0\n",
      "8\n",
      "Sampled elements: [55, 14, 3, 13, 40, 53, 46, 8, 59, 35]\n"
     ]
    }
   ],
   "source": [
    "import random\n",
    "\n",
    "def reservoir_sampling(stream, k):\n",
    "    # Initialize a reservoir with the first k elements from the stream\n",
    "    reservoir = stream[:k]\n",
    "    \n",
    "    # Process the rest of the elements in the stream\n",
    "    for i in range(k, len(stream)):\n",
    "        # Pick a random index from 0 to i\n",
    "        # Here, I am giving equal chace to every number from 0 to i of getting picked -- Uniform distribution definition\n",
    "        j = random.randint(0, i)\n",
    "        \n",
    "        # If the random index is within the range of the reservoir, replace the element\n",
    "        if j < k:\n",
    "            print(j)\n",
    "            reservoir[j] = stream[i]\n",
    "    \n",
    "    return reservoir\n",
    "\n",
    "# Example usage:\n",
    "# Let's say we have a stream of numbers from 1 to 100 and we want to sample 10 of them\n",
    "stream = list(range(1, 101))\n",
    "k = 10\n",
    "sample = reservoir_sampling(stream, k)\n",
    "print(\"Sampled elements:\", sample)\n"
   ]
  },
  {
   "cell_type": "code",
   "execution_count": null,
   "metadata": {},
   "outputs": [],
   "source": []
  },
  {
   "cell_type": "code",
   "execution_count": 4,
   "metadata": {},
   "outputs": [
    {
     "data": {
      "text/plain": [
       "100"
      ]
     },
     "execution_count": 4,
     "metadata": {},
     "output_type": "execute_result"
    }
   ],
   "source": [
    "len(stream)"
   ]
  }
 ],
 "metadata": {
  "kernelspec": {
   "display_name": "python38",
   "language": "python",
   "name": "python3"
  },
  "language_info": {
   "codemirror_mode": {
    "name": "ipython",
    "version": 3
   },
   "file_extension": ".py",
   "mimetype": "text/x-python",
   "name": "python",
   "nbconvert_exporter": "python",
   "pygments_lexer": "ipython3",
   "version": "3.8.18"
  }
 },
 "nbformat": 4,
 "nbformat_minor": 2
}

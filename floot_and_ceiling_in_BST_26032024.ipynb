{
 "cells": [
  {
   "cell_type": "code",
   "execution_count": 81,
   "metadata": {},
   "outputs": [],
   "source": [
    "class Node:\n",
    "    def __init__(self, item):\n",
    "        self.left=None\n",
    "        self.right=None\n",
    "        self.item=item\n",
    "        \n",
    "\n",
    "root=Node(50)\n",
    "root.left=Node(30)\n",
    "root.left.left=Node(20)\n",
    "root.left.right=Node(40)\n",
    "\n",
    "root.right=Node(70)\n",
    "root.right.left=Node(60)\n",
    "root.right.left.left=Node(55)\n",
    "root.right.left.right=Node(65)\n",
    "root.right.right=Node(78)"
   ]
  },
  {
   "cell_type": "markdown",
   "metadata": {},
   "source": [
    "## FLOOR"
   ]
  },
  {
   "cell_type": "code",
   "execution_count": 30,
   "metadata": {},
   "outputs": [],
   "source": [
    "# it's a recursive solution\n",
    "# time: O(h) and space is also O(h)\n",
    "def floor_search(root,num):\n",
    "        if root==None:\n",
    "            return -1\n",
    "        elif root.item <= num:\n",
    "            return max(root.item,floor_search(root.right, num))\n",
    "        else:\n",
    "            return min(root.item, floor_search(root.left, num))"
   ]
  },
  {
   "cell_type": "code",
   "execution_count": 31,
   "metadata": {},
   "outputs": [
    {
     "data": {
      "text/plain": [
       "30"
      ]
     },
     "execution_count": 31,
     "metadata": {},
     "output_type": "execute_result"
    }
   ],
   "source": [
    "floor_search(root, 35)"
   ]
  },
  {
   "cell_type": "code",
   "execution_count": 97,
   "metadata": {},
   "outputs": [],
   "source": [
    "# Iterative solution:\n",
    "# time: O(h)\n",
    "# space: O(1)\n",
    "\n",
    "def floor_search2(root, num):\n",
    "    result = None\n",
    "    while root!=None:\n",
    "        if root.item==num:\n",
    "            return root\n",
    "\n",
    "            \n",
    "        elif root.item > num:\n",
    "            root=root.left\n",
    "            \n",
    "        else:\n",
    "            result=root\n",
    "            root=root.right\n",
    "    return result"
   ]
  },
  {
   "cell_type": "code",
   "execution_count": 103,
   "metadata": {},
   "outputs": [
    {
     "data": {
      "text/plain": [
       "60"
      ]
     },
     "execution_count": 103,
     "metadata": {},
     "output_type": "execute_result"
    }
   ],
   "source": [
    "floor_search2(root, 63).item"
   ]
  },
  {
   "cell_type": "markdown",
   "metadata": {},
   "source": [
    "## Ceiling"
   ]
  },
  {
   "cell_type": "code",
   "execution_count": 100,
   "metadata": {},
   "outputs": [],
   "source": [
    "\n",
    "def ceil_search2(root, num):\n",
    "    result = None\n",
    "    while root!=None:\n",
    "        if root.item==num:\n",
    "            return root\n",
    "\n",
    "        elif root.item > num:\n",
    "            result =root\n",
    "            root=root.left\n",
    "            \n",
    "        else:\n",
    "            root=root.right\n",
    "    return result\n",
    "    \n",
    "        "
   ]
  },
  {
   "cell_type": "code",
   "execution_count": 102,
   "metadata": {},
   "outputs": [
    {
     "data": {
      "text/plain": [
       "65"
      ]
     },
     "execution_count": 102,
     "metadata": {},
     "output_type": "execute_result"
    }
   ],
   "source": [
    "ans = ceil_search2(root, 63)\n",
    "ans.item\n",
    "# ans"
   ]
  },
  {
   "cell_type": "code",
   "execution_count": null,
   "metadata": {},
   "outputs": [],
   "source": []
  }
 ],
 "metadata": {
  "kernelspec": {
   "display_name": "python38",
   "language": "python",
   "name": "python3"
  },
  "language_info": {
   "codemirror_mode": {
    "name": "ipython",
    "version": 3
   },
   "file_extension": ".py",
   "mimetype": "text/x-python",
   "name": "python",
   "nbconvert_exporter": "python",
   "pygments_lexer": "ipython3",
   "version": "3.8.18"
  }
 },
 "nbformat": 4,
 "nbformat_minor": 2
}
